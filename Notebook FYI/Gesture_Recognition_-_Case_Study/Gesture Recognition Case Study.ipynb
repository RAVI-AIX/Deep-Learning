{
 "cells": [
  {
   "cell_type": "markdown",
   "id": "161e93e3",
   "metadata": {
    "id": "JfcpIXQZN2Rh"
   },
   "source": [
    "### 1. Importing all the important libraries"
   ]
  },
  {
   "cell_type": "code",
   "execution_count": null,
   "id": "4a954adb",
   "metadata": {
    "id": "WC8xCQuELWms"
   },
   "outputs": [],
   "source": [
    "# Data handling libraries\n",
    "import matplotlib.pyplot as plt\n",
    "import numpy as np\n",
    "import pandas as pd\n",
    "import os\n",
    "from datetime import datetime\n",
    "import time\n",
    "import random\n",
    "from warnings import filterwarnings\n",
    "from imageio import imread\n",
    "from PIL import Image\n",
    "import abc\n",
    "from skimage.transform import resize\n",
    "import cv2\n",
    "\n",
    "# DL Model libraries\n",
    "import tensorflow as tf\n",
    "from tensorflow import keras\n",
    "from tensorflow.keras import layers\n",
    "from tensorflow.keras.models import Sequential\n",
    "from tensorflow.keras.callbacks import ModelCheckpoint, ReduceLROnPlateau, History\n",
    "from tensorflow.keras import optimizers\n",
    "from keras import backend as K\n",
    "\n",
    "# for Conv3D Model\n",
    "from tensorflow.keras.layers import Dense, Dropout, Flatten, BatchNormalization, Activation, Conv3D, MaxPooling3D\n",
    "\n",
    "# for Conv2D + RNN Model\n",
    "from tensorflow.keras.models import Model\n",
    "from tensorflow.keras.layers import GRU, TimeDistributed\n",
    "from keras.applications.vgg16 import VGG16\n",
    "from keras.applications import mobilenet\n",
    "from keras.layers.convolutional import Conv2D, MaxPooling2D\n",
    "from keras.layers.recurrent import LSTM\n",
    "\n",
    "# Specific conditions\n",
    "filterwarnings('ignore')\n",
    "\n",
    "%matplotlib inline\n",
    "%config InlineBackend.figure_format= 'svg'\n",
    "\n",
    "plt.style.use('seaborn')"
   ]
  },
  {
   "cell_type": "markdown",
   "id": "0913be97",
   "metadata": {},
   "source": [
    "#### 1.1 Fixing random seeds"
   ]
  },
  {
   "cell_type": "code",
   "execution_count": null,
   "id": "0652d096",
   "metadata": {},
   "outputs": [],
   "source": [
    "random.seed(30)\n",
    "tf.random.set_seed(30)"
   ]
  },
  {
   "cell_type": "markdown",
   "id": "c54fcd35",
   "metadata": {},
   "source": [
    "#### Getting the data\n",
    "\n"
   ]
  },
  {
   "cell_type": "markdown",
   "id": "4271f2f1",
   "metadata": {},
   "source": [
    "### 2. Getting the data\n",
    "\n",
    "* The given dataset is uploaded in a googledrive folder, with url : https://drive.google.com/uc?id=1ehyrYBQ5rbQQe6yL4XbLWe3FMvuVUGiL"
   ]
  },
  {
   "cell_type": "code",
   "execution_count": null,
   "id": "106a8e31",
   "metadata": {},
   "outputs": [],
   "source": [
    "pip install googledrivedownloader"
   ]
  },
  {
   "cell_type": "code",
   "execution_count": null,
   "id": "dc814b46",
   "metadata": {},
   "outputs": [],
   "source": [
    "# Specifying the url and directory for downloading the data\n",
    "file_url = 'https://drive.google.com/uc?id=1ehyrYBQ5rbQQe6yL4XbLWe3FMvuVUGiL'\n",
    "file_id = file_url.split('id=')[-1]\n",
    "current_dir = os.getcwd()\n",
    "file_dir = current_dir +'\\\\'\n",
    "file_name = 'Project_data.zip'"
   ]
  },
  {
   "cell_type": "markdown",
   "id": "0dd3add6",
   "metadata": {},
   "source": [
    "#### Unzipping the zip file from the google drive url and saving it in the current directory"
   ]
  },
  {
   "cell_type": "code",
   "execution_count": null,
   "id": "86e1a542",
   "metadata": {},
   "outputs": [],
   "source": [
    "from google_drive_downloader import GoogleDriveDownloader as gdd\n",
    "\n",
    "# Downloading and unpacking the zip file\n",
    "gdd.download_file_from_google_drive(file_id = file_id,\n",
    "                                    dest_path = file_dir + file_name,\n",
    "                                    unzip = True)\n",
    "# Removing the zip file\n",
    "os.remove(file_dir+file_name)"
   ]
  },
  {
   "cell_type": "markdown",
   "id": "0865837d",
   "metadata": {},
   "source": [
    "#### 2.1 Specifying directory for the data"
   ]
  },
  {
   "cell_type": "code",
   "execution_count": null,
   "id": "dd3b8955",
   "metadata": {},
   "outputs": [],
   "source": [
    "project_data_dir = os.path.join(current_dir, 'Project_data')\n",
    "\n",
    "train_csv_dir = os.path.join(project_data_dir,'train.csv')\n",
    "val_csv_dir = os.path.join(project_data_dir,'val.csv')\n",
    "\n",
    "train_data_dir = os.path.join(project_data_dir, 'train')\n",
    "val_data_dir = os.path.join(project_data_dir, 'val')"
   ]
  },
  {
   "cell_type": "markdown",
   "id": "2cdb71cc",
   "metadata": {},
   "source": [
    "#### 2.2 Reading folder names from csv"
   ]
  },
  {
   "cell_type": "code",
   "execution_count": null,
   "id": "bdc8b7ef",
   "metadata": {},
   "outputs": [],
   "source": [
    "# Choosing permutation as we want to randomize only the output whithout changing the sequence in the original object\n",
    "train_doc = np.random.permutation(open(train_csv_dir).readlines())\n",
    "val_doc = np.random.permutation(open(val_csv_dir).readlines())"
   ]
  },
  {
   "cell_type": "markdown",
   "id": "269bfa86",
   "metadata": {},
   "source": [
    "#### 2.2 Checking the count of folders in train and val"
   ]
  },
  {
   "cell_type": "code",
   "execution_count": null,
   "id": "146def34",
   "metadata": {},
   "outputs": [],
   "source": [
    "num_train_sequences = len(train_doc)\n",
    "print('# training sequences =', num_train_sequences)\n",
    "num_val_sequences = len(val_doc)\n",
    "print('# validation sequences =', num_val_sequences)"
   ]
  },
  {
   "cell_type": "markdown",
   "id": "04bd40e9",
   "metadata": {},
   "source": [
    "#### 2.3 Specifying batch size and num of epochs"
   ]
  },
  {
   "cell_type": "code",
   "execution_count": null,
   "id": "4473a1af",
   "metadata": {},
   "outputs": [],
   "source": [
    "batch_size = 32\n",
    "num_epochs = 20\n",
    "print ('# batch size =', batch_size)\n",
    "print ('# epochs =', num_epochs)"
   ]
  },
  {
   "cell_type": "markdown",
   "id": "efc0f1e5",
   "metadata": {},
   "source": [
    "#### 2.4 Inspecting the data"
   ]
  },
  {
   "cell_type": "markdown",
   "id": "ddea8ea5",
   "metadata": {},
   "source": [
    "#### Listing the folders in train_doc"
   ]
  },
  {
   "cell_type": "code",
   "execution_count": null,
   "id": "a22b42fd",
   "metadata": {},
   "outputs": [],
   "source": [
    "train_doc"
   ]
  },
  {
   "cell_type": "markdown",
   "id": "e480e5c3",
   "metadata": {},
   "source": [
    "#### Viewing sample images from the folders"
   ]
  },
  {
   "cell_type": "code",
   "execution_count": null,
   "id": "56b16f9e",
   "metadata": {},
   "outputs": [],
   "source": [
    "# Viewing the image files in few folders\n",
    "\n",
    "trial_1 = np.random.permutation(train_doc)\n",
    "trial_path_1 = trial_1[0+(1*64)].split(';')[0]\n",
    "trial_images_1 = os.listdir(os.path.join(train_data_dir,trial_path_1))\n",
    "\n",
    "fig, ((ax1, ax2, ax3),\\\n",
    "    (ax4, ax5, ax6),\\\n",
    "    (ax7, ax8, ax9)) = plt.subplots(3,3, figsize = (10,10))\n",
    "\n",
    "                          \n",
    "for index, ax in enumerate([ax1,ax2,ax3,ax4,ax5,ax6,ax7,ax8,ax9]):\n",
    "    image = Image.open(os.path.join(train_data_dir, trial_path_1, trial_images_1[3*index]))\n",
    "    ax.imshow(image)\n",
    "    ax.axis('off')\n",
    "    \n",
    "plt.show()"
   ]
  },
  {
   "cell_type": "code",
   "execution_count": null,
   "id": "8dfc6b7c",
   "metadata": {},
   "outputs": [],
   "source": [
    "# Viewing the image files in few folders\n",
    "\n",
    "trial_2 = np.random.permutation(train_doc)\n",
    "trial_path_2 = trial_2[2+(1*64)].split(';')[0]\n",
    "trial_images_2 = os.listdir(os.path.join(train_data_dir,trial_path_2))\n",
    "\n",
    "fig, ((ax1, ax2, ax3),\\\n",
    "    (ax4, ax5, ax6),\\\n",
    "    (ax7, ax8, ax9)) = plt.subplots(3,3, figsize = (10,10))\n",
    "\n",
    "                          \n",
    "for index, ax in enumerate([ax1,ax2,ax3,ax4,ax5,ax6,ax7,ax8,ax9]):\n",
    "    image = Image.open(os.path.join(train_data_dir, trial_path_2, trial_images_2[3*index]))\n",
    "    ax.imshow(image)\n",
    "    ax.axis('off')\n",
    "    \n",
    "plt.show()"
   ]
  },
  {
   "cell_type": "markdown",
   "id": "47ee3265",
   "metadata": {},
   "source": [
    "#### Resizing Image - Trial"
   ]
  },
  {
   "cell_type": "code",
   "execution_count": null,
   "id": "f6549163",
   "metadata": {},
   "outputs": [],
   "source": [
    "trial_img = Image.open(os.path.join(train_data_dir, trial_path_1, trial_images_1[1]))\n",
    "trial_img"
   ]
  },
  {
   "cell_type": "code",
   "execution_count": null,
   "id": "51c7c046",
   "metadata": {},
   "outputs": [],
   "source": [
    "trial_img_resized = trial_img.resize((84,84))"
   ]
  },
  {
   "cell_type": "code",
   "execution_count": null,
   "id": "507945ac",
   "metadata": {},
   "outputs": [],
   "source": [
    "trial_img_resized"
   ]
  },
  {
   "cell_type": "markdown",
   "id": "5f0ad02b",
   "metadata": {},
   "source": [
    "#### Representing image as numpy array"
   ]
  },
  {
   "cell_type": "code",
   "execution_count": null,
   "id": "3b93acfa",
   "metadata": {
    "scrolled": true
   },
   "outputs": [],
   "source": [
    "img = np.array(trial_img)\n",
    "img"
   ]
  },
  {
   "cell_type": "markdown",
   "id": "c1f6b79b",
   "metadata": {},
   "source": [
    "#### Checking the shape of the numpy array before and after resizing"
   ]
  },
  {
   "cell_type": "code",
   "execution_count": null,
   "id": "ffe47e68",
   "metadata": {},
   "outputs": [],
   "source": [
    "# Before resizing\n",
    "imread(os.path.join(train_data_dir, trial_path_1, trial_images_1[1])).astype(np.float32).shape"
   ]
  },
  {
   "cell_type": "code",
   "execution_count": null,
   "id": "84922421",
   "metadata": {},
   "outputs": [],
   "source": [
    "# After resizing\n",
    "np.array(trial_img_resized).shape"
   ]
  },
  {
   "cell_type": "markdown",
   "id": "c670ac05",
   "metadata": {},
   "source": [
    "#### 2.5 Function to\n",
    "* Get values from history\n",
    "* Plot history values\n",
    "* Get best validation accuracy\n",
    "* Get training accuracy at best validation accuracy\n",
    "* Get epoch number\n",
    "* Get parameter count"
   ]
  },
  {
   "cell_type": "code",
   "execution_count": null,
   "id": "5e974d23",
   "metadata": {},
   "outputs": [],
   "source": [
    "def plot_results(model):\n",
    "    \n",
    "    model_history = model.history.history\n",
    "    \n",
    "    # storing accuracy values\n",
    "    train_acc = model_history['categorical_accuracy']\n",
    "    val_acc = model_history['val_categorical_accuracy']\n",
    "    \n",
    "    # storing loss values\n",
    "    train_loss = model_history['loss']\n",
    "    val_loss = model_history['val_loss']\n",
    "    \n",
    "    epochs_range = range(num_epochs)\n",
    "    \n",
    "    # plotting \n",
    "    plt.figure(figsize=(8, 8))\n",
    "    plt.subplot(1, 2, 1)\n",
    "    plt.plot(epochs_range, train_acc, label='Training Accuracy')\n",
    "    plt.plot(epochs_range, val_acc, label='Validation Accuracy')\n",
    "    plt.title('Accuracy')\n",
    "\n",
    "    plt.subplot(1, 2, 2)\n",
    "    plt.plot(epochs_range, train_loss, label='Training Loss')\n",
    "    plt.plot(epochs_range, val_loss, label='Validation Loss')\n",
    "    plt.legend(['Training', 'Validation'], loc = 'upper right', bbox_to_anchor = (1.4, 1.02))\n",
    "    plt.title('Loss')\n",
    "\n",
    "    plt.show()\n",
    "    \n",
    "    # returning train and val accuracy\n",
    "    model_best_val_accuracy = round(max(val_acc),3)\n",
    "    model_train_accuracy_at_best_val_accuracy = round(train_acc[val_acc.index(max(val_acc))],3)\n",
    "    print('------------------')\n",
    "    print(f'Highest validation accuracy                      = {round(max(val_acc),3)}')\n",
    "    print(f'Training accuracy at highest validation accuracy = {round(train_acc[val_acc.index(max(val_acc))],3)}')\n",
    "    print('------------------')\n",
    "    \n",
    "    return model_best_val_accuracy, model_train_accuracy_at_best_val_accuracy, num_epochs, model.count_params()\n"
   ]
  },
  {
   "cell_type": "markdown",
   "id": "1b22f5ad",
   "metadata": {},
   "source": [
    "### 3. Generator for sourcing image data from the data directory"
   ]
  },
  {
   "attachments": {
    "image-4.png": {
     "image/png": "[encoded data removed]"
    }
   },
   "cell_type": "markdown",
   "id": "b4e66dcf",
   "metadata": {},
   "source": [
    "![image-4.png](attachment:image-4.png)"
   ]
  },
  {
   "cell_type": "code",
   "execution_count": null,
   "id": "f05abf1f",
   "metadata": {
    "run_control": {
     "marked": true
    }
   },
   "outputs": [],
   "source": [
    "def generator(source_path, folder_list, batch_size):\n",
    "    print('Source path = ', source_path, '; batch size = ', batch_size)\n",
    "    \n",
    "    # we will try and make the model work in 18 images from each sequence\n",
    "    # This means each 4D tensor becomes 18 * image height * image breadth * number of channels\n",
    "    img_idx = [0,1,2,4,6,8,10,12,14,16,18,20,22,24,26,27,28,29]\n",
    "    \n",
    "    # taking a set of 4D images at random permutation \n",
    "    # 4D image meaning sequences --> each sequence is in a different folder\n",
    "    \n",
    "    while True:\n",
    "\n",
    "        folders = np.random.permutation(folder_list)\n",
    "        num_batches = int(len(folders)/batch_size)\n",
    "\n",
    "        # creating placeholders for the images and the labels\n",
    "        # In each iteration, batch_size of 'batch_size' 4D tensor image is passed.\n",
    "        # There are total of 5 labels\n",
    "\n",
    "        for b_index in range(num_batches):\n",
    "            batch_data = np.zeros((batch_size, len(img_idx), 84, 84, 3))\n",
    "            batch_labels = np.zeros((batch_size, 5))\n",
    "\n",
    "            # each batch is a collection of folders (many 4D Tensor)\n",
    "            # each folder is a sequence of images (many 3D Tensor)\n",
    "            # There are num_batches batch.\n",
    "            # Each batch has batch_size folders\n",
    "            # So in each batch, folder starts from 0 to batch_size.\n",
    "            # For every item in folders, the first part when split at ';' is image, 2nd is class / type, 3rd is class label\n",
    "            # listdir is to list the content of the folder\n",
    "\n",
    "            for f_index in range(batch_size):\n",
    "                folder_name = folders[f_index + (b_index * batch_size)].strip().split(';')[0]\n",
    "                class_label = folders[f_index + (b_index * batch_size)].strip().split(';')[2]\n",
    "                image_list = os.listdir(os.path.join(source_path, folder_name))\n",
    "\n",
    "                # across the image list, we will choose and load only the images whose index match with idx_index\n",
    "                for idx_index, idx_value in enumerate(img_idx):\n",
    "                    image = Image.open(os.path.join(source_path, folder_name, image_list[idx_value]))\n",
    "                    image = image.resize((84,84))\n",
    "                    image = np.array(image, dtype = 'float32')\n",
    "\n",
    "                    # normalizing the image\n",
    "                    image = (image - image.min())/(image.max() - image.min())\n",
    "                    \n",
    "                    # since placeholder is set for each channel, we are also splitting the image as individual channel\n",
    "                    \n",
    "                    batch_data[f_index,idx_index,:,:,0] = image[:,:,0]\n",
    "                    batch_data[f_index,idx_index,:,:,1] = image[:,:,0]\n",
    "                    batch_data[f_index,idx_index,:,:,2] = image[:,:,0]\n",
    "\n",
    "                batch_labels[f_index, int(class_label)] = 1\n",
    "            yield batch_data, batch_labels\n",
    "        \n",
    "        # When the number of folders is less than the batch size\n",
    "        # batch size placeholder will be replaced with the number of folders which are remaining\n",
    "        if (len(folders)%batch_size) != 0:\n",
    "            batch_data = np.zeros(((len(folders)%batch_size), len(img_idx), 84, 84, 3))\n",
    "            batch_labels = np.zeros(((len(folders)%batch_size), 5))\n",
    "            \n",
    "            for f_index in range((len(folders)%batch_size)):\n",
    "                folder_name = folders[f_index + (b_index * batch_size)].strip().split(';')[0]\n",
    "                class_label = folders[f_index + (b_index * batch_size)].strip().split(';')[2]\n",
    "                image_list = os.listdir(os.path.join(source_path, folder_name))\n",
    "\n",
    "                # across the image list, we will choose and load only the images whose index match with idx_index\n",
    "                for idx_index, idx_value in enumerate(img_idx):\n",
    "                    image = Image.open(os.path.join(source_path, folder_name, image_list[idx_value]))\n",
    "                    image = image.resize((84,84))\n",
    "                    image = np.array(image, dtype = 'float32')\n",
    "\n",
    "                    # normalizing the image\n",
    "                    image = (image - image.min())/(image.max() - image.min())\n",
    "                    \n",
    "                    # since placeholder is set for each channel, we are also splitting the image as individual channel\n",
    "                    \n",
    "                    batch_data[f_index,idx_index,:,:,0] = image[:,:,0]\n",
    "                    batch_data[f_index,idx_index,:,:,1] = image[:,:,1]\n",
    "                    batch_data[f_index,idx_index,:,:,2] = image[:,:,2]\n",
    "\n",
    "                batch_labels[f_index, int(class_label)] = 1\n",
    "            yield batch_data, batch_labels"
   ]
  },
  {
   "cell_type": "markdown",
   "id": "c136a38c",
   "metadata": {},
   "source": [
    "#### There are two primary motives in this project\n",
    "* High accuracy\n",
    "* Low execution time "
   ]
  },
  {
   "cell_type": "markdown",
   "id": "636024b5",
   "metadata": {},
   "source": [
    "#### Finding model for best accuracy while trying to reduce execution time"
   ]
  },
  {
   "cell_type": "markdown",
   "id": "405dcbb8",
   "metadata": {},
   "source": [
    "### 4. Model1"
   ]
  },
  {
   "cell_type": "markdown",
   "id": "e6b16863",
   "metadata": {},
   "source": [
    "#### 4.1 Structure"
   ]
  },
  {
   "cell_type": "code",
   "execution_count": null,
   "id": "b3e00279",
   "metadata": {
    "run_control": {
     "marked": true
    }
   },
   "outputs": [],
   "source": [
    "model1 = Sequential()\n",
    "model1.add(Conv3D(32, (3,3,3), strides=(1,1,1), padding='same', input_shape=(18,84,84,3)))\n",
    "model1.add(Activation('elu'))\n",
    "model1.add(MaxPooling3D(pool_size=(2,2,1), strides=(2,2,1)))\n",
    "\n",
    "model1.add(Conv3D(64, (3,3,3), strides=(1,1,1), padding='same'))\n",
    "model1.add(Activation('elu'))\n",
    "model1.add(MaxPooling3D(pool_size=(2,2,2), strides=(2,2,2)))\n",
    "\n",
    "model1.add(Conv3D(128, (3,3,3), strides=(1,1,1), padding='same'))\n",
    "model1.add(Activation('elu'))\n",
    "model1.add(MaxPooling3D(pool_size=(2,2,2), strides=(2,2,2)))\n",
    "\n",
    "model1.add(Conv3D(128, (3,3,3), strides=(1,1,1), padding='same'))\n",
    "model1.add(Activation('elu'))\n",
    "model1.add(MaxPooling3D(pool_size=(2,2,2), strides=(2,2,2)))\n",
    "\n",
    "model1.add(Flatten())\n",
    "model1.add(Dropout(0.25))\n",
    "model1.add(Dense(512, activation='elu'))\n",
    "model1.add(Dropout(0.25))\n",
    "model1.add(Dense(5, activation='softmax'))"
   ]
  },
  {
   "cell_type": "markdown",
   "id": "3ba82671",
   "metadata": {},
   "source": [
    "#### 4.2 Model1 Compilation - Optimizer and Loss function"
   ]
  },
  {
   "cell_type": "code",
   "execution_count": null,
   "id": "801c67d5",
   "metadata": {},
   "outputs": [],
   "source": [
    "adam = optimizers.Adam(learning_rate = 0.001)\n",
    "model1.compile(optimizer=adam, loss='categorical_crossentropy', metrics=['categorical_accuracy'])\n",
    "print (model1.summary())"
   ]
  },
  {
   "cell_type": "markdown",
   "id": "886c5b62",
   "metadata": {},
   "source": [
    "#### 4.3 Sourcing the data"
   ]
  },
  {
   "cell_type": "code",
   "execution_count": null,
   "id": "376d9126",
   "metadata": {},
   "outputs": [],
   "source": [
    "# Initiating the iterable generators for train and validation \n",
    "train_generator = generator(train_data_dir, train_doc, batch_size)\n",
    "val_generator = generator(val_data_dir, val_doc, batch_size)"
   ]
  },
  {
   "cell_type": "markdown",
   "id": "8ab1eda1",
   "metadata": {},
   "source": [
    "#### 4.4 Storing model1 check points"
   ]
  },
  {
   "cell_type": "code",
   "execution_count": null,
   "id": "f8fa2db6",
   "metadata": {},
   "outputs": [],
   "source": [
    "curr_dt_time = datetime.now()"
   ]
  },
  {
   "cell_type": "code",
   "execution_count": null,
   "id": "8c3182f3",
   "metadata": {
    "run_control": {
     "marked": true
    }
   },
   "outputs": [],
   "source": [
    "# Creating the model name based on runtime.\n",
    "model_name = 'model_init' + '_' + str(curr_dt_time).replace(' ','').replace(':','_') + '/'\n",
    "\n",
    "# if path does not exist, make new path\n",
    "if not os.path.exists(model_name):\n",
    "    os.mkdir(model_name)\n",
    "\n",
    "# .h5 File name\n",
    "filepath = model_name + 'model1-{epoch:05d}-{loss:.5f}-{categorical_accuracy:.5f}-{val_loss:.5f}-{val_categorical_accuracy:.5f}.h5'\n",
    "\n",
    "# checkpoint to record val loss\n",
    "checkpoint = ModelCheckpoint(filepath, monitor='val_loss', verbose=1,\\\n",
    "                             save_best_only=True, save_weights_only=False, mode='auto', save_freq='epoch')\n",
    "\n",
    "# reducing the learning rate if there is no reduction in gradient over epochs\n",
    "LR = ReduceLROnPlateau(monitor='val_loss', factor=0.5, patience=2,\\\n",
    "                       verbose=1, mode='min', min_delta=0.0001, cooldown=0, min_lr=0.00001)\n",
    "\n",
    "# Also creating a history object to record all parameters over epochs\n",
    "history = History()\n",
    "# storing checkpoint and LR as callbacks list\n",
    "callbacks_list = [checkpoint, LR, history]"
   ]
  },
  {
   "cell_type": "markdown",
   "id": "bd47ceba",
   "metadata": {},
   "source": [
    "#### 4.5 Steps per epoch"
   ]
  },
  {
   "cell_type": "code",
   "execution_count": null,
   "id": "6a8e0b1e",
   "metadata": {},
   "outputs": [],
   "source": [
    "if (num_train_sequences%batch_size) == 0:\n",
    "    steps_per_epoch = int(num_train_sequences/batch_size)\n",
    "else:\n",
    "    steps_per_epoch = (num_train_sequences//batch_size) + 1\n",
    "\n",
    "if (num_val_sequences%batch_size) == 0:\n",
    "    validation_steps = int(num_val_sequences/batch_size)\n",
    "else:\n",
    "    validation_steps = (num_val_sequences//batch_size) + 1"
   ]
  },
  {
   "cell_type": "markdown",
   "id": "a2423914",
   "metadata": {},
   "source": [
    "#### 4.6 Model1 Training"
   ]
  },
  {
   "cell_type": "code",
   "execution_count": null,
   "id": "0bdb3904",
   "metadata": {},
   "outputs": [],
   "source": [
    "# Timing the model runtime\n",
    "model1_start_time = time.time()"
   ]
  },
  {
   "cell_type": "code",
   "execution_count": null,
   "id": "70758876",
   "metadata": {},
   "outputs": [],
   "source": [
    "model1.fit_generator(train_generator, steps_per_epoch=steps_per_epoch, epochs=num_epochs, verbose=2, \n",
    "                     callbacks=callbacks_list, validation_data=val_generator, \n",
    "                     validation_steps=validation_steps, class_weight=None, workers=1, initial_epoch=0)"
   ]
  },
  {
   "cell_type": "code",
   "execution_count": null,
   "id": "2d0e12c9",
   "metadata": {},
   "outputs": [],
   "source": [
    "model1_exec_time = round((time.time() - model1_start_time), 6)\n",
    "print(f\"Model1 execution time is {model1_exec_time} seconds\")"
   ]
  },
  {
   "cell_type": "markdown",
   "id": "c899fcfd",
   "metadata": {},
   "source": [
    "#### 4.7 Plotting recorded results and getting the accuracies"
   ]
  },
  {
   "cell_type": "code",
   "execution_count": null,
   "id": "8d1cb4a9",
   "metadata": {},
   "outputs": [],
   "source": [
    "model1_best_val_acc, model1_train_acc_at_best_val_acc,model1_num_epochs, model1_param_count = plot_results(model1)"
   ]
  },
  {
   "cell_type": "markdown",
   "id": "cbfe91c9",
   "metadata": {},
   "source": [
    "### 5. model2"
   ]
  },
  {
   "cell_type": "markdown",
   "id": "d57a464d",
   "metadata": {},
   "source": [
    "#### 5.1 Structure"
   ]
  },
  {
   "cell_type": "markdown",
   "id": "06c9e348",
   "metadata": {},
   "source": [
    "Reducing the number of parameters by reducing the kernels used to check if it improves timing"
   ]
  },
  {
   "cell_type": "code",
   "execution_count": null,
   "id": "34169a80",
   "metadata": {
    "run_control": {
     "marked": true
    }
   },
   "outputs": [],
   "source": [
    "model2 = Sequential()\n",
    "model2.add(Conv3D(32, (3,3,3), strides=(1,1,1), padding='same', input_shape=(18,84,84,3)))\n",
    "model2.add(Activation('elu'))\n",
    "model2.add(MaxPooling3D(pool_size=(2,2,1), strides=(2,2,1)))\n",
    "\n",
    "model2.add(Conv3D(32, (3,3,3), strides=(1,1,1), padding='same'))\n",
    "model2.add(Activation('elu'))\n",
    "model2.add(MaxPooling3D(pool_size=(2,2,2), strides=(2,2,2)))\n",
    "\n",
    "model2.add(Conv3D(64, (3,3,3), strides=(1,1,1), padding='same'))\n",
    "model2.add(Activation('elu'))\n",
    "model2.add(MaxPooling3D(pool_size=(2,2,2), strides=(2,2,2)))\n",
    "\n",
    "model2.add(Conv3D(128, (3,3,3), strides=(1,1,1), padding='same'))\n",
    "model2.add(Activation('elu'))\n",
    "model2.add(MaxPooling3D(pool_size=(2,2,2), strides=(2,2,2)))\n",
    "\n",
    "model2.add(Flatten())\n",
    "model2.add(Dropout(0.25))\n",
    "model2.add(Dense(512, activation='elu'))\n",
    "model2.add(Dropout(0.25))\n",
    "model2.add(Dense(5, activation='softmax'))"
   ]
  },
  {
   "cell_type": "markdown",
   "id": "9f6c2ed8",
   "metadata": {},
   "source": [
    "#### 5.2 Model Compilation - Optimizer and Loss function"
   ]
  },
  {
   "cell_type": "code",
   "execution_count": null,
   "id": "951aba77",
   "metadata": {},
   "outputs": [],
   "source": [
    "adam = optimizers.Adam(learning_rate = 0.001)\n",
    "model2.compile(optimizer=adam, loss='categorical_crossentropy', metrics=['categorical_accuracy'])\n",
    "print (model2.summary())"
   ]
  },
  {
   "cell_type": "markdown",
   "id": "666eedf9",
   "metadata": {},
   "source": [
    "#### 5.3 Sourcing the data"
   ]
  },
  {
   "cell_type": "code",
   "execution_count": null,
   "id": "ad82d187",
   "metadata": {},
   "outputs": [],
   "source": [
    "# Initiating the iterable generators for train and validation \n",
    "train_generator = generator(train_data_dir, train_doc, batch_size)\n",
    "val_generator = generator(val_data_dir, val_doc, batch_size)"
   ]
  },
  {
   "cell_type": "markdown",
   "id": "773505f5",
   "metadata": {},
   "source": [
    "#### 5.4 Storing model2 check points"
   ]
  },
  {
   "cell_type": "code",
   "execution_count": null,
   "id": "20205272",
   "metadata": {},
   "outputs": [],
   "source": [
    "curr_dt_time = datetime.now()"
   ]
  },
  {
   "cell_type": "code",
   "execution_count": null,
   "id": "bfbcd9c0",
   "metadata": {
    "run_control": {
     "marked": true
    }
   },
   "outputs": [],
   "source": [
    "# Creating the model name based on runtime.\n",
    "model_name = 'model_init' + '_' + str(curr_dt_time).replace(' ','').replace(':','_') + '/'\n",
    "\n",
    "# if path does not exist, make new path\n",
    "if not os.path.exists(model_name):\n",
    "    os.mkdir(model_name)\n",
    "\n",
    "# .h5 File name\n",
    "filepath = model_name + 'model2-{epoch:05d}-{loss:.5f}-{categorical_accuracy:.5f}-{val_loss:.5f}-{val_categorical_accuracy:.5f}.h5'\n",
    "\n",
    "# checkpoint to record val loss\n",
    "checkpoint = ModelCheckpoint(filepath, monitor='val_loss', verbose=1,\\\n",
    "                             save_best_only=True, save_weights_only=False, mode='auto', save_freq='epoch')\n",
    "\n",
    "# reducing the learning rate if there is no reduction in gradient over epochs\n",
    "LR = ReduceLROnPlateau(monitor='val_loss', factor=0.5, patience=2,\\\n",
    "                       verbose=1, mode='min', min_delta=0.0001, cooldown=0, min_lr=0.00001)\n",
    "\n",
    "# Also creating a history object to record all parameters over epochs\n",
    "history = History()\n",
    "# storing checkpoint and LR as callbacks list\n",
    "callbacks_list = [checkpoint, LR, history]"
   ]
  },
  {
   "cell_type": "markdown",
   "id": "b4eaadb1",
   "metadata": {},
   "source": [
    "#### 5.5 Steps per epoch"
   ]
  },
  {
   "cell_type": "code",
   "execution_count": null,
   "id": "42e18193",
   "metadata": {},
   "outputs": [],
   "source": [
    "if (num_train_sequences%batch_size) == 0:\n",
    "    steps_per_epoch = int(num_train_sequences/batch_size)\n",
    "else:\n",
    "    steps_per_epoch = (num_train_sequences//batch_size) + 1\n",
    "\n",
    "if (num_val_sequences%batch_size) == 0:\n",
    "    validation_steps = int(num_val_sequences/batch_size)\n",
    "else:\n",
    "    validation_steps = (num_val_sequences//batch_size) + 1"
   ]
  },
  {
   "cell_type": "markdown",
   "id": "4e4b0d50",
   "metadata": {},
   "source": [
    "#### 5.6 model2 Training"
   ]
  },
  {
   "cell_type": "code",
   "execution_count": null,
   "id": "d978d204",
   "metadata": {},
   "outputs": [],
   "source": [
    "# Timing the model runtime\n",
    "model2_start_time = time.time()"
   ]
  },
  {
   "cell_type": "code",
   "execution_count": null,
   "id": "b32be64f",
   "metadata": {},
   "outputs": [],
   "source": [
    "model2.fit_generator(train_generator, steps_per_epoch=steps_per_epoch, epochs=num_epochs, verbose=2, \n",
    "                    callbacks=callbacks_list, validation_data=val_generator, \n",
    "                    validation_steps=validation_steps, class_weight=None, workers=1, initial_epoch=0)"
   ]
  },
  {
   "cell_type": "code",
   "execution_count": null,
   "id": "93198e96",
   "metadata": {},
   "outputs": [],
   "source": [
    "model2_exec_time = round((time.time() - model2_start_time), 6)\n",
    "print(f\"Model2 execution time is {model2_exec_time} seconds\")"
   ]
  },
  {
   "cell_type": "markdown",
   "id": "7017a02c",
   "metadata": {},
   "source": [
    "#### 5.7 Plotting recorded results and getting the accuracies"
   ]
  },
  {
   "cell_type": "code",
   "execution_count": null,
   "id": "9bd2d10e",
   "metadata": {},
   "outputs": [],
   "source": [
    "model2_best_val_acc, model2_train_acc_at_best_val_acc,model2_num_epochs, model2_param_count = plot_results(model2)"
   ]
  },
  {
   "cell_type": "markdown",
   "id": "c5a2626d",
   "metadata": {},
   "source": [
    "### 6. model3"
   ]
  },
  {
   "cell_type": "markdown",
   "id": "a1c87376",
   "metadata": {},
   "source": [
    "Checking if reducing number of hidden layer by 1 reduces time taken for an epoch"
   ]
  },
  {
   "cell_type": "markdown",
   "id": "347006eb",
   "metadata": {},
   "source": [
    "#### 6.1 Structure"
   ]
  },
  {
   "cell_type": "code",
   "execution_count": null,
   "id": "2be8c459",
   "metadata": {
    "run_control": {
     "marked": true
    }
   },
   "outputs": [],
   "source": [
    "model3 = Sequential()\n",
    "model3.add(Conv3D(32, (3,3,3), strides=(1,1,1), padding='same', input_shape=(18,84,84,3)))\n",
    "model3.add(Activation('elu'))\n",
    "model3.add(MaxPooling3D(pool_size=(2,2,1), strides=(2,2,1)))\n",
    "\n",
    "model3.add(Conv3D(64, (3,3,3), strides=(1,1,1), padding='same'))\n",
    "model3.add(Activation('elu'))\n",
    "model3.add(MaxPooling3D(pool_size=(2,2,2), strides=(2,2,2)))\n",
    "\n",
    "model3.add(Conv3D(128, (3,3,3), strides=(1,1,1), padding='same'))\n",
    "model3.add(Activation('elu'))\n",
    "model3.add(MaxPooling3D(pool_size=(2,2,2), strides=(2,2,2)))\n",
    "\n",
    "model3.add(Flatten())\n",
    "model3.add(Dropout(0.25))\n",
    "model3.add(Dense(512, activation='elu'))\n",
    "model3.add(Dropout(0.25))\n",
    "model3.add(Dense(5, activation='softmax'))"
   ]
  },
  {
   "cell_type": "markdown",
   "id": "1dd3d3c4",
   "metadata": {},
   "source": [
    "#### 6.2 Model Compilation - Optimizer and Loss function"
   ]
  },
  {
   "cell_type": "code",
   "execution_count": null,
   "id": "ab73b169",
   "metadata": {},
   "outputs": [],
   "source": [
    "adam = optimizers.Adam(learning_rate = 0.001)\n",
    "model3.compile(optimizer=adam, loss='categorical_crossentropy', metrics=['categorical_accuracy'])\n",
    "print (model3.summary())"
   ]
  },
  {
   "cell_type": "markdown",
   "id": "835a366e",
   "metadata": {},
   "source": [
    "#### 6.3 Sourcing the data"
   ]
  },
  {
   "cell_type": "code",
   "execution_count": null,
   "id": "e1fbd12a",
   "metadata": {},
   "outputs": [],
   "source": [
    "# Initiating the iterable generators for train and validation \n",
    "train_generator = generator(train_data_dir, train_doc, batch_size)\n",
    "val_generator = generator(val_data_dir, val_doc, batch_size)"
   ]
  },
  {
   "cell_type": "markdown",
   "id": "e5be1d78",
   "metadata": {},
   "source": [
    "#### 6.4 Storing model3 check points"
   ]
  },
  {
   "cell_type": "code",
   "execution_count": null,
   "id": "1894f4e6",
   "metadata": {},
   "outputs": [],
   "source": [
    "curr_dt_time = datetime.now()"
   ]
  },
  {
   "cell_type": "code",
   "execution_count": null,
   "id": "d81e2143",
   "metadata": {
    "run_control": {
     "marked": true
    }
   },
   "outputs": [],
   "source": [
    "# Creating the model name based on runtime.\n",
    "model_name = 'model_init' + '_' + str(curr_dt_time).replace(' ','').replace(':','_') + '/'\n",
    "\n",
    "# if path does not exist, make new path\n",
    "if not os.path.exists(model_name):\n",
    "    os.mkdir(model_name)\n",
    "\n",
    "# .h5 File name\n",
    "filepath = model_name + 'model3-{epoch:05d}-{loss:.5f}-{categorical_accuracy:.5f}-{val_loss:.5f}-{val_categorical_accuracy:.5f}.h5'\n",
    "\n",
    "# checkpoint to record val loss\n",
    "checkpoint = ModelCheckpoint(filepath, monitor='val_loss', verbose=1,\\\n",
    "                             save_best_only=True, save_weights_only=False, mode='auto', save_freq='epoch')\n",
    "\n",
    "# reducing the learning rate if there is no reduction in gradient over epochs\n",
    "LR = ReduceLROnPlateau(monitor='val_loss', factor=0.5, patience=2,\\\n",
    "                       verbose=1, mode='min', min_delta=0.0001, cooldown=0, min_lr=0.00001)\n",
    "\n",
    "# Also creating a history object to record all parameters over epochs\n",
    "history = History()\n",
    "# storing checkpoint and LR as callbacks list\n",
    "callbacks_list = [checkpoint, LR, history]"
   ]
  },
  {
   "cell_type": "markdown",
   "id": "f661f384",
   "metadata": {},
   "source": [
    "#### 6.5 Steps per epoch"
   ]
  },
  {
   "cell_type": "code",
   "execution_count": null,
   "id": "cbfda090",
   "metadata": {},
   "outputs": [],
   "source": [
    "if (num_train_sequences%batch_size) == 0:\n",
    "    steps_per_epoch = int(num_train_sequences/batch_size)\n",
    "else:\n",
    "    steps_per_epoch = (num_train_sequences//batch_size) + 1\n",
    "\n",
    "if (num_val_sequences%batch_size) == 0:\n",
    "    validation_steps = int(num_val_sequences/batch_size)\n",
    "else:\n",
    "    validation_steps = (num_val_sequences//batch_size) + 1"
   ]
  },
  {
   "cell_type": "markdown",
   "id": "74a55728",
   "metadata": {},
   "source": [
    "#### 6.6 model3 Training"
   ]
  },
  {
   "cell_type": "code",
   "execution_count": null,
   "id": "8633c20e",
   "metadata": {},
   "outputs": [],
   "source": [
    "# Timing the model runtime\n",
    "model3_start_time = time.time()"
   ]
  },
  {
   "cell_type": "code",
   "execution_count": null,
   "id": "3b3130a5",
   "metadata": {},
   "outputs": [],
   "source": [
    "model3.fit_generator(train_generator, steps_per_epoch=steps_per_epoch, epochs=num_epochs, verbose=2, \n",
    "                    callbacks=callbacks_list, validation_data=val_generator, \n",
    "                    validation_steps=validation_steps, class_weight=None, workers=1, initial_epoch=0)"
   ]
  },
  {
   "cell_type": "code",
   "execution_count": null,
   "id": "fca43d5d",
   "metadata": {},
   "outputs": [],
   "source": [
    "model3_exec_time = round((time.time() - model3_start_time), 6)\n",
    "print(f\"Model3 execution time is {model3_exec_time} seconds\")"
   ]
  },
  {
   "cell_type": "markdown",
   "id": "1525ee0e",
   "metadata": {},
   "source": [
    "#### 6.7 Plotting recorded results and getting the accuracies"
   ]
  },
  {
   "cell_type": "code",
   "execution_count": null,
   "id": "13323044",
   "metadata": {},
   "outputs": [],
   "source": [
    "model3_best_val_acc, model3_train_acc_at_best_val_acc,model3_num_epochs, model3_param_count = plot_results(model3)"
   ]
  },
  {
   "cell_type": "markdown",
   "id": "4c4edcdd",
   "metadata": {},
   "source": [
    "### 7. Model4"
   ]
  },
  {
   "cell_type": "markdown",
   "id": "c50cc2f2",
   "metadata": {},
   "source": [
    "Since the parameter reduction did not do substantial improvement towards time taken, but reduced accuracy immensely, model structure shall be retained the same as model1, but will change batch size to __16__."
   ]
  },
  {
   "cell_type": "code",
   "execution_count": null,
   "id": "34bc9dd4",
   "metadata": {},
   "outputs": [],
   "source": [
    "batch_size = 16\n",
    "print('# batch size =', batch_size)"
   ]
  },
  {
   "cell_type": "markdown",
   "id": "0cb17263",
   "metadata": {},
   "source": [
    "#### 7.1 Structure"
   ]
  },
  {
   "cell_type": "code",
   "execution_count": null,
   "id": "af3a5c37",
   "metadata": {
    "run_control": {
     "marked": true
    }
   },
   "outputs": [],
   "source": [
    "model4 = Sequential()\n",
    "model4.add(Conv3D(32, (3,3,3), strides=(1,1,1), padding='same', input_shape=(18,84,84,3)))\n",
    "model4.add(Activation('elu'))\n",
    "model4.add(MaxPooling3D(pool_size=(2,2,1), strides=(2,2,1)))\n",
    "\n",
    "model4.add(Conv3D(64, (3,3,3), strides=(1,1,1), padding='same'))\n",
    "model4.add(Activation('elu'))\n",
    "model4.add(MaxPooling3D(pool_size=(2,2,2), strides=(2,2,2)))\n",
    "\n",
    "model4.add(Conv3D(128, (3,3,3), strides=(1,1,1), padding='same'))\n",
    "model4.add(Activation('elu'))\n",
    "model4.add(MaxPooling3D(pool_size=(2,2,2), strides=(2,2,2)))\n",
    "\n",
    "model4.add(Conv3D(128, (3,3,3), strides=(1,1,1), padding='same'))\n",
    "model4.add(Activation('elu'))\n",
    "model4.add(MaxPooling3D(pool_size=(2,2,2), strides=(2,2,2)))\n",
    "\n",
    "model4.add(Flatten())\n",
    "model4.add(Dropout(0.25))\n",
    "model4.add(Dense(512, activation='elu'))\n",
    "model4.add(Dropout(0.25))\n",
    "model4.add(Dense(5, activation='softmax'))"
   ]
  },
  {
   "cell_type": "markdown",
   "id": "f50388d4",
   "metadata": {},
   "source": [
    "#### 7.2 model4 Compilation - Optimizer and Loss function"
   ]
  },
  {
   "cell_type": "code",
   "execution_count": null,
   "id": "0ecf92ba",
   "metadata": {},
   "outputs": [],
   "source": [
    "adam = optimizers.Adam(learning_rate = 0.001)\n",
    "model4.compile(optimizer=adam, loss='categorical_crossentropy', metrics=['categorical_accuracy'])\n",
    "print (model4.summary())"
   ]
  },
  {
   "cell_type": "markdown",
   "id": "6ba8ed28",
   "metadata": {},
   "source": [
    "#### 7.3 Sourcing the data"
   ]
  },
  {
   "cell_type": "code",
   "execution_count": null,
   "id": "8aec6fdf",
   "metadata": {},
   "outputs": [],
   "source": [
    "# Initiating the iterable generators for train and validation \n",
    "train_generator = generator(train_data_dir, train_doc, batch_size)\n",
    "val_generator = generator(val_data_dir, val_doc, batch_size)"
   ]
  },
  {
   "cell_type": "markdown",
   "id": "1dfa8821",
   "metadata": {},
   "source": [
    "#### 7.4 Storing model4 check points"
   ]
  },
  {
   "cell_type": "code",
   "execution_count": null,
   "id": "65bd7a75",
   "metadata": {},
   "outputs": [],
   "source": [
    "curr_dt_time = datetime.now()"
   ]
  },
  {
   "cell_type": "code",
   "execution_count": null,
   "id": "7004ac55",
   "metadata": {
    "run_control": {
     "marked": true
    }
   },
   "outputs": [],
   "source": [
    "# Creating the model name based on runtime.\n",
    "model_name = 'model_init' + '_' + str(curr_dt_time).replace(' ','').replace(':','_') + '/'\n",
    "\n",
    "# if path does not exist, make new path\n",
    "if not os.path.exists(model_name):\n",
    "    os.mkdir(model_name)\n",
    "\n",
    "# .h5 File name\n",
    "filepath = model_name + 'model4-{epoch:05d}-{loss:.5f}-{categorical_accuracy:.5f}-{val_loss:.5f}-{val_categorical_accuracy:.5f}.h5'\n",
    "\n",
    "# checkpoint to record val loss\n",
    "checkpoint = ModelCheckpoint(filepath, monitor='val_loss', verbose=1,\\\n",
    "                             save_best_only=True, save_weights_only=False, mode='auto', save_freq='epoch')\n",
    "\n",
    "# reducing the learning rate if there is no reduction in gradient over epochs\n",
    "LR = ReduceLROnPlateau(monitor='val_loss', factor=0.5, patience=2,\\\n",
    "                       verbose=1, mode='min', min_delta=0.0001, cooldown=0, min_lr=0.00001)\n",
    "\n",
    "# Also creating a history object to record all parameters over epochs\n",
    "history = History()\n",
    "# storing checkpoint and LR as callbacks list\n",
    "callbacks_list = [checkpoint, LR, history]"
   ]
  },
  {
   "cell_type": "markdown",
   "id": "d5467610",
   "metadata": {},
   "source": [
    "#### 7.5 Steps per epoch"
   ]
  },
  {
   "cell_type": "code",
   "execution_count": null,
   "id": "82f6e35e",
   "metadata": {},
   "outputs": [],
   "source": [
    "if (num_train_sequences%batch_size) == 0:\n",
    "    steps_per_epoch = int(num_train_sequences/batch_size)\n",
    "else:\n",
    "    steps_per_epoch = (num_train_sequences//batch_size) + 1\n",
    "\n",
    "if (num_val_sequences%batch_size) == 0:\n",
    "    validation_steps = int(num_val_sequences/batch_size)\n",
    "else:\n",
    "    validation_steps = (num_val_sequences//batch_size) + 1"
   ]
  },
  {
   "cell_type": "markdown",
   "id": "228a7a93",
   "metadata": {},
   "source": [
    "#### 7.6 model4 Training"
   ]
  },
  {
   "cell_type": "code",
   "execution_count": null,
   "id": "344f4756",
   "metadata": {},
   "outputs": [],
   "source": [
    "# Timing the model runtime\n",
    "model4_start_time = time.time()"
   ]
  },
  {
   "cell_type": "code",
   "execution_count": null,
   "id": "ab17d140",
   "metadata": {},
   "outputs": [],
   "source": [
    "model4.fit_generator(train_generator, steps_per_epoch=steps_per_epoch, epochs=num_epochs, verbose=2, \n",
    "                     callbacks=callbacks_list, validation_data=val_generator, \n",
    "                     validation_steps=validation_steps, class_weight=None, workers=1, initial_epoch=0)"
   ]
  },
  {
   "cell_type": "code",
   "execution_count": null,
   "id": "a0cfc366",
   "metadata": {},
   "outputs": [],
   "source": [
    "model4_exec_time = round((time.time() - model4_start_time), 6)\n",
    "print(f\"Model4 execution time is {model4_exec_time} seconds\")"
   ]
  },
  {
   "cell_type": "markdown",
   "id": "b55739fe",
   "metadata": {},
   "source": [
    "#### 7.7 Plotting recorded results and getting the accuracies"
   ]
  },
  {
   "cell_type": "code",
   "execution_count": null,
   "id": "ed6a684d",
   "metadata": {},
   "outputs": [],
   "source": [
    "model4_best_val_acc, model4_train_acc_at_best_val_acc,model4_num_epochs, model4_param_count = plot_results(model4)"
   ]
  },
  {
   "cell_type": "markdown",
   "id": "6405aa52",
   "metadata": {},
   "source": [
    "### 8. model5"
   ]
  },
  {
   "cell_type": "markdown",
   "id": "682f0d20",
   "metadata": {},
   "source": [
    "The epochs from 15 to 20 are not reducing losses anymore in model4, and accuracy gain is marginal. So will change num_epochs to 15."
   ]
  },
  {
   "cell_type": "code",
   "execution_count": null,
   "id": "cf58eee5",
   "metadata": {},
   "outputs": [],
   "source": [
    "num_epochs = 15\n",
    "print('# num epochs =', num_epochs)"
   ]
  },
  {
   "cell_type": "markdown",
   "id": "1dc68901",
   "metadata": {},
   "source": [
    "#### 8.1 Structure"
   ]
  },
  {
   "cell_type": "code",
   "execution_count": null,
   "id": "f9b06f83",
   "metadata": {
    "run_control": {
     "marked": true
    }
   },
   "outputs": [],
   "source": [
    "model5 = Sequential()\n",
    "model5.add(Conv3D(32, (3,3,3), strides=(1,1,1), padding='same', input_shape=(18,84,84,3)))\n",
    "model5.add(Activation('elu'))\n",
    "model5.add(MaxPooling3D(pool_size=(2,2,1), strides=(2,2,1)))\n",
    "\n",
    "model5.add(Conv3D(64, (3,3,3), strides=(1,1,1), padding='same'))\n",
    "model5.add(Activation('elu'))\n",
    "model5.add(MaxPooling3D(pool_size=(2,2,2), strides=(2,2,2)))\n",
    "\n",
    "model5.add(Conv3D(128, (3,3,3), strides=(1,1,1), padding='same'))\n",
    "model5.add(Activation('elu'))\n",
    "model5.add(MaxPooling3D(pool_size=(2,2,2), strides=(2,2,2)))\n",
    "\n",
    "model5.add(Conv3D(128, (3,3,3), strides=(1,1,1), padding='same'))\n",
    "model5.add(Activation('elu'))\n",
    "model5.add(MaxPooling3D(pool_size=(2,2,2), strides=(2,2,2)))\n",
    "\n",
    "model5.add(Flatten())\n",
    "model5.add(Dropout(0.25))\n",
    "model5.add(Dense(512, activation='elu'))\n",
    "model5.add(Dropout(0.25))\n",
    "model5.add(Dense(5, activation='softmax'))"
   ]
  },
  {
   "cell_type": "markdown",
   "id": "8faf8262",
   "metadata": {},
   "source": [
    "#### 8.2 model5 Compilation - Optimizer and Loss function"
   ]
  },
  {
   "cell_type": "code",
   "execution_count": null,
   "id": "e4fbc77b",
   "metadata": {},
   "outputs": [],
   "source": [
    "adam = optimizers.Adam(learning_rate = 0.001)\n",
    "model5.compile(optimizer=adam, loss='categorical_crossentropy', metrics=['categorical_accuracy'])\n",
    "print (model5.summary())"
   ]
  },
  {
   "cell_type": "markdown",
   "id": "56f0b387",
   "metadata": {},
   "source": [
    "#### 8.3 Sourcing the data"
   ]
  },
  {
   "cell_type": "code",
   "execution_count": null,
   "id": "f73839b7",
   "metadata": {},
   "outputs": [],
   "source": [
    "# Initiating the iterable generators for train and validation \n",
    "train_generator = generator(train_data_dir, train_doc, batch_size)\n",
    "val_generator = generator(val_data_dir, val_doc, batch_size)"
   ]
  },
  {
   "cell_type": "markdown",
   "id": "7980334f",
   "metadata": {},
   "source": [
    "#### 8.4 Storing model5 check points"
   ]
  },
  {
   "cell_type": "code",
   "execution_count": null,
   "id": "a704cf54",
   "metadata": {},
   "outputs": [],
   "source": [
    "curr_dt_time = datetime.now()"
   ]
  },
  {
   "cell_type": "code",
   "execution_count": null,
   "id": "073af0bf",
   "metadata": {
    "run_control": {
     "marked": true
    }
   },
   "outputs": [],
   "source": [
    "# Creating the model name based on runtime.\n",
    "model_name = 'model_init' + '_' + str(curr_dt_time).replace(' ','').replace(':','_') + '/'\n",
    "\n",
    "# if path does not exist, make new path\n",
    "if not os.path.exists(model_name):\n",
    "    os.mkdir(model_name)\n",
    "\n",
    "# .h5 File name\n",
    "filepath = model_name + 'model5-{epoch:05d}-{loss:.5f}-{categorical_accuracy:.5f}-{val_loss:.5f}-{val_categorical_accuracy:.5f}.h5'\n",
    "\n",
    "# checkpoint to record val loss\n",
    "checkpoint = ModelCheckpoint(filepath, monitor='val_loss', verbose=1,\\\n",
    "                             save_best_only=True, save_weights_only=False, mode='auto', save_freq='epoch')\n",
    "\n",
    "# reducing the learning rate if there is no reduction in gradient over epochs\n",
    "LR = ReduceLROnPlateau(monitor='val_loss', factor=0.5, patience=2,\\\n",
    "                       verbose=1, mode='min', min_delta=0.0001, cooldown=0, min_lr=0.00001)\n",
    "\n",
    "# Also creating a history object to record all parameters over epochs\n",
    "history = History()\n",
    "# storing checkpoint and LR as callbacks list\n",
    "callbacks_list = [checkpoint, LR, history]"
   ]
  },
  {
   "cell_type": "markdown",
   "id": "499e2be4",
   "metadata": {},
   "source": [
    "#### 8.5 Steps per epoch"
   ]
  },
  {
   "cell_type": "code",
   "execution_count": null,
   "id": "439aa2ea",
   "metadata": {},
   "outputs": [],
   "source": [
    "if (num_train_sequences%batch_size) == 0:\n",
    "    steps_per_epoch = int(num_train_sequences/batch_size)\n",
    "else:\n",
    "    steps_per_epoch = (num_train_sequences//batch_size) + 1\n",
    "\n",
    "if (num_val_sequences%batch_size) == 0:\n",
    "    validation_steps = int(num_val_sequences/batch_size)\n",
    "else:\n",
    "    validation_steps = (num_val_sequences//batch_size) + 1"
   ]
  },
  {
   "cell_type": "markdown",
   "id": "ed6893f9",
   "metadata": {},
   "source": [
    "#### 8.6 model5 Training"
   ]
  },
  {
   "cell_type": "code",
   "execution_count": null,
   "id": "dfefd9d1",
   "metadata": {},
   "outputs": [],
   "source": [
    "# Timing the model runtime\n",
    "model5_start_time = time.time()"
   ]
  },
  {
   "cell_type": "code",
   "execution_count": null,
   "id": "da64fc87",
   "metadata": {},
   "outputs": [],
   "source": [
    "model5.fit_generator(train_generator, steps_per_epoch=steps_per_epoch, epochs=num_epochs, verbose=2, \n",
    "                     callbacks=callbacks_list, validation_data=val_generator, \n",
    "                     validation_steps=validation_steps, class_weight=None, workers=1, initial_epoch=0)"
   ]
  },
  {
   "cell_type": "code",
   "execution_count": null,
   "id": "c2794838",
   "metadata": {},
   "outputs": [],
   "source": [
    "model5_exec_time = round((time.time() - model5_start_time), 6)\n",
    "print(f\"Model5 execution time is {model5_exec_time} seconds\")"
   ]
  },
  {
   "cell_type": "markdown",
   "id": "d34409a3",
   "metadata": {},
   "source": [
    "#### 8.7 Plotting recorded results and getting the accuracies"
   ]
  },
  {
   "cell_type": "code",
   "execution_count": null,
   "id": "d53a9598",
   "metadata": {},
   "outputs": [],
   "source": [
    "model5_best_val_acc, model5_train_acc_at_best_val_acc,model5_num_epochs, model5_param_count = plot_results(model5)"
   ]
  },
  {
   "cell_type": "markdown",
   "id": "3476c678",
   "metadata": {},
   "source": [
    "### 9. Model6"
   ]
  },
  {
   "cell_type": "markdown",
   "id": "7ee97138",
   "metadata": {},
   "source": [
    "#### 9.1 Structure"
   ]
  },
  {
   "cell_type": "markdown",
   "id": "7c0efaef",
   "metadata": {},
   "source": [
    "Since the drop in accuracy was only 0.02, using the reduced parameters model, with batch size as 16 and epochs as 15"
   ]
  },
  {
   "cell_type": "code",
   "execution_count": null,
   "id": "5679f2d9",
   "metadata": {
    "run_control": {
     "marked": true
    }
   },
   "outputs": [],
   "source": [
    "model6 = Sequential()\n",
    "model6.add(Conv3D(32, (3,3,3), strides=(1,1,1), padding='same', input_shape=(18,84,84,3)))\n",
    "model6.add(Activation('elu'))\n",
    "model6.add(MaxPooling3D(pool_size=(2,2,1), strides=(2,2,1)))\n",
    "\n",
    "model6.add(Conv3D(32, (3,3,3), strides=(1,1,1), padding='same'))\n",
    "model6.add(Activation('elu'))\n",
    "model6.add(MaxPooling3D(pool_size=(2,2,2), strides=(2,2,2)))\n",
    "\n",
    "model6.add(Conv3D(64, (3,3,3), strides=(1,1,1), padding='same'))\n",
    "model6.add(Activation('elu'))\n",
    "model6.add(MaxPooling3D(pool_size=(2,2,2), strides=(2,2,2)))\n",
    "\n",
    "model6.add(Conv3D(128, (3,3,3), strides=(1,1,1), padding='same'))\n",
    "model6.add(Activation('elu'))\n",
    "model6.add(MaxPooling3D(pool_size=(2,2,2), strides=(2,2,2)))\n",
    "\n",
    "model6.add(Flatten())\n",
    "model6.add(Dropout(0.25))\n",
    "model6.add(Dense(512, activation='elu'))\n",
    "model6.add(Dropout(0.25))\n",
    "model6.add(Dense(5, activation='softmax'))"
   ]
  },
  {
   "cell_type": "markdown",
   "id": "49dd6609",
   "metadata": {},
   "source": [
    "#### 9.2 Model Compilation - Optimizer and Loss function"
   ]
  },
  {
   "cell_type": "code",
   "execution_count": null,
   "id": "d4409ef5",
   "metadata": {},
   "outputs": [],
   "source": [
    "adam = optimizers.Adam(learning_rate = 0.001)\n",
    "model6.compile(optimizer=adam, loss='categorical_crossentropy', metrics=['categorical_accuracy'])\n",
    "print (model6.summary())"
   ]
  },
  {
   "cell_type": "markdown",
   "id": "03a3d267",
   "metadata": {},
   "source": [
    "#### 9.3 Sourcing the data"
   ]
  },
  {
   "cell_type": "code",
   "execution_count": null,
   "id": "330b3f9c",
   "metadata": {},
   "outputs": [],
   "source": [
    "# Initiating the iterable generators for train and validation \n",
    "train_generator = generator(train_data_dir, train_doc, batch_size)\n",
    "val_generator = generator(val_data_dir, val_doc, batch_size)"
   ]
  },
  {
   "cell_type": "markdown",
   "id": "2698347a",
   "metadata": {},
   "source": [
    "#### 9.4 Storing model6 check points"
   ]
  },
  {
   "cell_type": "code",
   "execution_count": null,
   "id": "718fce2c",
   "metadata": {},
   "outputs": [],
   "source": [
    "curr_dt_time = datetime.now()"
   ]
  },
  {
   "cell_type": "code",
   "execution_count": null,
   "id": "1dfa0a51",
   "metadata": {
    "run_control": {
     "marked": true
    }
   },
   "outputs": [],
   "source": [
    "# Creating the model name based on runtime.\n",
    "model_name = 'model_init' + '_' + str(curr_dt_time).replace(' ','').replace(':','_') + '/'\n",
    "\n",
    "# if path does not exist, make new path\n",
    "if not os.path.exists(model_name):\n",
    "    os.mkdir(model_name)\n",
    "\n",
    "# .h5 File name\n",
    "filepath = model_name + 'model6-{epoch:05d}-{loss:.5f}-{categorical_accuracy:.5f}-{val_loss:.5f}-{val_categorical_accuracy:.5f}.h5'\n",
    "\n",
    "# checkpoint to record val loss\n",
    "checkpoint = ModelCheckpoint(filepath, monitor='val_loss', verbose=1,\\\n",
    "                             save_best_only=True, save_weights_only=False, mode='auto', save_freq='epoch')\n",
    "\n",
    "# reducing the learning rate if there is no reduction in gradient over epochs\n",
    "LR = ReduceLROnPlateau(monitor='val_loss', factor=0.5, patience=2,\\\n",
    "                       verbose=1, mode='min', min_delta=0.0001, cooldown=0, min_lr=0.00001)\n",
    "\n",
    "# Also creating a history object to record all parameters over epochs\n",
    "history = History()\n",
    "# storing checkpoint and LR as callbacks list\n",
    "callbacks_list = [checkpoint, LR, history]"
   ]
  },
  {
   "cell_type": "markdown",
   "id": "541f4d0a",
   "metadata": {},
   "source": [
    "#### 9.5 Steps per epoch"
   ]
  },
  {
   "cell_type": "code",
   "execution_count": null,
   "id": "42dfd3be",
   "metadata": {},
   "outputs": [],
   "source": [
    "if (num_train_sequences%batch_size) == 0:\n",
    "    steps_per_epoch = int(num_train_sequences/batch_size)\n",
    "else:\n",
    "    steps_per_epoch = (num_train_sequences//batch_size) + 1\n",
    "\n",
    "if (num_val_sequences%batch_size) == 0:\n",
    "    validation_steps = int(num_val_sequences/batch_size)\n",
    "else:\n",
    "    validation_steps = (num_val_sequences//batch_size) + 1"
   ]
  },
  {
   "cell_type": "markdown",
   "id": "38f9fd5e",
   "metadata": {},
   "source": [
    "#### 9.6 model6 Training"
   ]
  },
  {
   "cell_type": "code",
   "execution_count": null,
   "id": "3c86db85",
   "metadata": {},
   "outputs": [],
   "source": [
    "# Timing the model runtime\n",
    "model6_start_time = time.time()"
   ]
  },
  {
   "cell_type": "code",
   "execution_count": null,
   "id": "60375180",
   "metadata": {},
   "outputs": [],
   "source": [
    "model6.fit_generator(train_generator, steps_per_epoch=steps_per_epoch, epochs=num_epochs, verbose=2, \n",
    "                    callbacks=callbacks_list, validation_data=val_generator, \n",
    "                    validation_steps=validation_steps, class_weight=None, workers=1, initial_epoch=0)"
   ]
  },
  {
   "cell_type": "code",
   "execution_count": null,
   "id": "58080dce",
   "metadata": {},
   "outputs": [],
   "source": [
    "model6_exec_time = round((time.time() - model6_start_time), 6)\n",
    "print(f\"Model6 execution time is {model6_exec_time} seconds\")"
   ]
  },
  {
   "cell_type": "markdown",
   "id": "270c1488",
   "metadata": {},
   "source": [
    "#### 9.7 Plotting recorded results and getting the accuracies"
   ]
  },
  {
   "cell_type": "code",
   "execution_count": null,
   "id": "b7efbe51",
   "metadata": {},
   "outputs": [],
   "source": [
    "model6_best_val_acc, model6_train_acc_at_best_val_acc,model6_num_epochs, model6_param_count = plot_results(model6)"
   ]
  },
  {
   "cell_type": "markdown",
   "id": "ebd1edbf",
   "metadata": {},
   "source": [
    "### 10. Model7"
   ]
  },
  {
   "cell_type": "markdown",
   "id": "5481eb1a",
   "metadata": {},
   "source": [
    "#### 10.1 Structure"
   ]
  },
  {
   "cell_type": "markdown",
   "id": "0d39390c",
   "metadata": {},
   "source": [
    " Making the following changes to the model and compilation.\n",
    "* Reducing the model structure as 16, 32, 64, 128\n",
    "* learning rate from 0.001 to 0.0012\n",
    "* LR reduce on Plateau - factor from 0.5 to 0.7 and patience from 2 to 1\n",
    "* Increase dropout from 0.25 to 0.4 to reduce overfitting"
   ]
  },
  {
   "cell_type": "code",
   "execution_count": null,
   "id": "4d0911b0",
   "metadata": {
    "run_control": {
     "marked": true
    }
   },
   "outputs": [],
   "source": [
    "model7 = Sequential()\n",
    "model7.add(Conv3D(16, (3,3,3), strides=(1,1,1), padding='same', input_shape=(18,84,84,3)))\n",
    "model7.add(Activation('elu'))\n",
    "model7.add(MaxPooling3D(pool_size=(2,2,1), strides=(2,2,1)))\n",
    "\n",
    "model7.add(Conv3D(32, (3,3,3), strides=(1,1,1), padding='same'))\n",
    "model7.add(Activation('elu'))\n",
    "model7.add(MaxPooling3D(pool_size=(2,2,2), strides=(2,2,2)))\n",
    "\n",
    "model7.add(Conv3D(64, (3,3,3), strides=(1,1,1), padding='same'))\n",
    "model7.add(Activation('elu'))\n",
    "model7.add(MaxPooling3D(pool_size=(2,2,2), strides=(2,2,2)))\n",
    "\n",
    "model7.add(Conv3D(128, (3,3,3), strides=(1,1,1), padding='same'))\n",
    "model7.add(Activation('elu'))\n",
    "model7.add(MaxPooling3D(pool_size=(2,2,2), strides=(2,2,2)))\n",
    "\n",
    "model7.add(Flatten())\n",
    "model7.add(Dropout(0.4))\n",
    "model7.add(Dense(512, activation='elu'))\n",
    "model7.add(Dropout(0.4))\n",
    "model7.add(Dense(5, activation='softmax'))"
   ]
  },
  {
   "cell_type": "markdown",
   "id": "ea130784",
   "metadata": {},
   "source": [
    "#### 10.2 Model Compilation - Optimizer and Loss function"
   ]
  },
  {
   "cell_type": "code",
   "execution_count": null,
   "id": "f7e993fd",
   "metadata": {},
   "outputs": [],
   "source": [
    "adam = optimizers.Adam(learning_rate = 0.0012)\n",
    "model7.compile(optimizer=adam, loss='categorical_crossentropy', metrics=['categorical_accuracy'])\n",
    "print (model7.summary())"
   ]
  },
  {
   "cell_type": "markdown",
   "id": "3e4f5920",
   "metadata": {},
   "source": [
    "#### 10.3 Sourcing the data"
   ]
  },
  {
   "cell_type": "code",
   "execution_count": null,
   "id": "81074d3b",
   "metadata": {},
   "outputs": [],
   "source": [
    "# Initiating the iterable generators for train and validation \n",
    "train_generator = generator(train_data_dir, train_doc, batch_size)\n",
    "val_generator = generator(val_data_dir, val_doc, batch_size)"
   ]
  },
  {
   "cell_type": "markdown",
   "id": "891f4cc7",
   "metadata": {},
   "source": [
    "#### 10.4 Storing model7 check points"
   ]
  },
  {
   "cell_type": "code",
   "execution_count": null,
   "id": "a635197d",
   "metadata": {},
   "outputs": [],
   "source": [
    "curr_dt_time = datetime.now()"
   ]
  },
  {
   "cell_type": "code",
   "execution_count": null,
   "id": "919a5c51",
   "metadata": {
    "run_control": {
     "marked": true
    }
   },
   "outputs": [],
   "source": [
    "# Creating the model name based on runtime.\n",
    "model_name = 'model_init' + '_' + str(curr_dt_time).replace(' ','').replace(':','_') + '/'\n",
    "\n",
    "# if path does not exist, make new path\n",
    "if not os.path.exists(model_name):\n",
    "    os.mkdir(model_name)\n",
    "\n",
    "# .h5 File name\n",
    "filepath = model_name + 'model7-{epoch:05d}-{loss:.5f}-{categorical_accuracy:.5f}-{val_loss:.5f}-{val_categorical_accuracy:.5f}.h5'\n",
    "\n",
    "# checkpoint to record val loss\n",
    "checkpoint = ModelCheckpoint(filepath, monitor='val_loss', verbose=1,\\\n",
    "                             save_best_only=True, save_weights_only=False, mode='auto', save_freq='epoch')\n",
    "\n",
    "# reducing the learning rate if there is no reduction in gradient over epochs\n",
    "LR = ReduceLROnPlateau(monitor='val_loss', factor=0.7, patience=1,\\\n",
    "                       verbose=1, mode='min', min_delta=0.0001, cooldown=0, min_lr=0.00001)\n",
    "\n",
    "# Also creating a history object to record all parameters over epochs\n",
    "history = History()\n",
    "# storing checkpoint and LR as callbacks list\n",
    "callbacks_list = [checkpoint, LR, history]"
   ]
  },
  {
   "cell_type": "markdown",
   "id": "4ab22606",
   "metadata": {},
   "source": [
    "#### 10.5 Steps per epoch"
   ]
  },
  {
   "cell_type": "code",
   "execution_count": null,
   "id": "9c0dc3eb",
   "metadata": {},
   "outputs": [],
   "source": [
    "if (num_train_sequences%batch_size) == 0:\n",
    "    steps_per_epoch = int(num_train_sequences/batch_size)\n",
    "else:\n",
    "    steps_per_epoch = (num_train_sequences//batch_size) + 1\n",
    "\n",
    "if (num_val_sequences%batch_size) == 0:\n",
    "    validation_steps = int(num_val_sequences/batch_size)\n",
    "else:\n",
    "    validation_steps = (num_val_sequences//batch_size) + 1"
   ]
  },
  {
   "cell_type": "markdown",
   "id": "082b5ebc",
   "metadata": {},
   "source": [
    "#### 10.6 model7 Training"
   ]
  },
  {
   "cell_type": "code",
   "execution_count": null,
   "id": "7396663a",
   "metadata": {},
   "outputs": [],
   "source": [
    "# Timing the model runtime\n",
    "model7_start_time = time.time()"
   ]
  },
  {
   "cell_type": "code",
   "execution_count": null,
   "id": "59ec9abc",
   "metadata": {},
   "outputs": [],
   "source": [
    "model7.fit_generator(train_generator, steps_per_epoch=steps_per_epoch, epochs=num_epochs, verbose=2, \n",
    "                    callbacks=callbacks_list, validation_data=val_generator, \n",
    "                    validation_steps=validation_steps, class_weight=None, workers=1, initial_epoch=0)"
   ]
  },
  {
   "cell_type": "code",
   "execution_count": null,
   "id": "4ba01168",
   "metadata": {},
   "outputs": [],
   "source": [
    "model7_exec_time = round((time.time() - model7_start_time), 6)\n",
    "print(f\"Model7 execution time is {model7_exec_time} seconds\")"
   ]
  },
  {
   "cell_type": "markdown",
   "id": "fb0a5225",
   "metadata": {},
   "source": [
    "#### 70.7 Plotting recorded results and getting the accuracies"
   ]
  },
  {
   "cell_type": "code",
   "execution_count": null,
   "id": "8b757c7d",
   "metadata": {},
   "outputs": [],
   "source": [
    "model7_best_val_acc, model7_train_acc_at_best_val_acc,model7_num_epochs, model7_param_count = plot_results(model7)"
   ]
  },
  {
   "cell_type": "markdown",
   "id": "2daca706",
   "metadata": {},
   "source": [
    "### 11. model8"
   ]
  },
  {
   "cell_type": "markdown",
   "id": "be2350c9",
   "metadata": {},
   "source": [
    "#### 11.1 Structure"
   ]
  },
  {
   "cell_type": "markdown",
   "id": "72e1ce62",
   "metadata": {},
   "source": [
    " Making the following changes to the model and compilation.\n",
    "* Increasing the model structure as 16, 32, 64, 128, 256\n",
    "* Maintaining learning rate as 0.0012\n",
    "* LR reduce on Plateau - factor as 0.7 and patience as 1\n",
    "* Increase dropout from 0.4 to 0.5 to reduce overfitting"
   ]
  },
  {
   "cell_type": "code",
   "execution_count": null,
   "id": "6c73dc2c",
   "metadata": {
    "run_control": {
     "marked": true
    }
   },
   "outputs": [],
   "source": [
    "model8 = Sequential()\n",
    "model8.add(Conv3D(16, (3,3,3), strides=(1,1,1), padding='same', input_shape=(18,84,84,3)))\n",
    "model8.add(Activation('elu'))\n",
    "model8.add(MaxPooling3D(pool_size=(2,2,1), strides=(2,2,1)))\n",
    "\n",
    "model8.add(Conv3D(32, (3,3,3), strides=(1,1,1), padding='same'))\n",
    "model8.add(Activation('elu'))\n",
    "model8.add(MaxPooling3D(pool_size=(2,2,2), strides=(2,2,2)))\n",
    "\n",
    "model8.add(Conv3D(64, (3,3,3), strides=(1,1,1), padding='same'))\n",
    "model8.add(Activation('elu'))\n",
    "model8.add(MaxPooling3D(pool_size=(2,2,2), strides=(2,2,2)))\n",
    "\n",
    "model8.add(Conv3D(128, (3,3,3), strides=(1,1,1), padding='same'))\n",
    "model8.add(Activation('elu'))\n",
    "model8.add(MaxPooling3D(pool_size=(2,2,2), strides=(2,2,2)))\n",
    "\n",
    "model8.add(Conv3D(256, (3,3,3), strides=(1,1,1), padding='same'))\n",
    "model8.add(Activation('elu'))\n",
    "model8.add(MaxPooling3D(pool_size=(2,2,2), strides=(2,2,2), padding='same'))\n",
    "\n",
    "model8.add(Flatten())\n",
    "model8.add(Dropout(0.5))\n",
    "model8.add(Dense(512, activation='elu'))\n",
    "model8.add(Dropout(0.5))\n",
    "model8.add(Dense(5, activation='softmax'))"
   ]
  },
  {
   "cell_type": "markdown",
   "id": "2c4dac08",
   "metadata": {},
   "source": [
    "#### 11.2 Model Compilation - Optimizer and Loss function"
   ]
  },
  {
   "cell_type": "code",
   "execution_count": null,
   "id": "58aa1c20",
   "metadata": {},
   "outputs": [],
   "source": [
    "adam = optimizers.Adam(learning_rate = 0.0012)\n",
    "model8.compile(optimizer=adam, loss='categorical_crossentropy', metrics=['categorical_accuracy'])\n",
    "print (model8.summary())"
   ]
  },
  {
   "cell_type": "markdown",
   "id": "b31c6604",
   "metadata": {},
   "source": [
    "#### 11.3 Sourcing the data"
   ]
  },
  {
   "cell_type": "code",
   "execution_count": null,
   "id": "834d5633",
   "metadata": {},
   "outputs": [],
   "source": [
    "# Initiating the iterable generators for train and validation \n",
    "train_generator = generator(train_data_dir, train_doc, batch_size)\n",
    "val_generator = generator(val_data_dir, val_doc, batch_size)"
   ]
  },
  {
   "cell_type": "markdown",
   "id": "b89f97a2",
   "metadata": {},
   "source": [
    "#### 11.4 Storing model8 check points"
   ]
  },
  {
   "cell_type": "code",
   "execution_count": null,
   "id": "af38b02b",
   "metadata": {},
   "outputs": [],
   "source": [
    "curr_dt_time = datetime.now()"
   ]
  },
  {
   "cell_type": "code",
   "execution_count": null,
   "id": "447ba701",
   "metadata": {
    "run_control": {
     "marked": true
    }
   },
   "outputs": [],
   "source": [
    "# Creating the model name based on runtime.\n",
    "model_name = 'model_init' + '_' + str(curr_dt_time).replace(' ','').replace(':','_') + '/'\n",
    "\n",
    "# if path does not exist, make new path\n",
    "if not os.path.exists(model_name):\n",
    "    os.mkdir(model_name)\n",
    "\n",
    "# .h5 File name\n",
    "filepath = model_name + 'model8-{epoch:05d}-{loss:.5f}-{categorical_accuracy:.5f}-{val_loss:.5f}-{val_categorical_accuracy:.5f}.h5'\n",
    "\n",
    "# checkpoint to record val loss\n",
    "checkpoint = ModelCheckpoint(filepath, monitor='val_loss', verbose=1,\\\n",
    "                             save_best_only=True, save_weights_only=False, mode='auto', save_freq='epoch')\n",
    "\n",
    "# reducing the learning rate if there is no reduction in gradient over epochs\n",
    "LR = ReduceLROnPlateau(monitor='val_loss', factor=0.7, patience=1,\\\n",
    "                       verbose=1, mode='min', min_delta=0.0001, cooldown=0, min_lr=0.00001)\n",
    "\n",
    "# Also creating a history object to record all parameters over epochs\n",
    "history = History()\n",
    "# storing checkpoint and LR as callbacks list\n",
    "callbacks_list = [checkpoint, LR, history]"
   ]
  },
  {
   "cell_type": "markdown",
   "id": "0f0769f7",
   "metadata": {},
   "source": [
    "#### 11.5 Steps per epoch"
   ]
  },
  {
   "cell_type": "code",
   "execution_count": null,
   "id": "9f1b9fa3",
   "metadata": {},
   "outputs": [],
   "source": [
    "if (num_train_sequences%batch_size) == 0:\n",
    "    steps_per_epoch = int(num_train_sequences/batch_size)\n",
    "else:\n",
    "    steps_per_epoch = (num_train_sequences//batch_size) + 1\n",
    "\n",
    "if (num_val_sequences%batch_size) == 0:\n",
    "    validation_steps = int(num_val_sequences/batch_size)\n",
    "else:\n",
    "    validation_steps = (num_val_sequences//batch_size) + 1"
   ]
  },
  {
   "cell_type": "markdown",
   "id": "6a1dfe8b",
   "metadata": {},
   "source": [
    "#### 11.6 model8 Training"
   ]
  },
  {
   "cell_type": "code",
   "execution_count": null,
   "id": "ac5f022d",
   "metadata": {},
   "outputs": [],
   "source": [
    "# Timing the model runtime\n",
    "model8_start_time = time.time()"
   ]
  },
  {
   "cell_type": "code",
   "execution_count": null,
   "id": "4a72bf1a",
   "metadata": {},
   "outputs": [],
   "source": [
    "model8.fit_generator(train_generator, steps_per_epoch=steps_per_epoch, epochs=num_epochs, verbose=2, \n",
    "                    callbacks=callbacks_list, validation_data=val_generator, \n",
    "                    validation_steps=validation_steps, class_weight=None, workers=1, initial_epoch=0)"
   ]
  },
  {
   "cell_type": "code",
   "execution_count": null,
   "id": "560a069b",
   "metadata": {},
   "outputs": [],
   "source": [
    "model8_exec_time = round((time.time() - model8_start_time), 6)\n",
    "print(f\"Model8 execution time is {model8_exec_time} seconds\")"
   ]
  },
  {
   "cell_type": "markdown",
   "id": "ca296ab2",
   "metadata": {},
   "source": [
    "#### 11.7 Plotting recorded results and getting the accuracies"
   ]
  },
  {
   "cell_type": "code",
   "execution_count": null,
   "id": "24b22a71",
   "metadata": {},
   "outputs": [],
   "source": [
    "model8_best_val_acc, model8_train_acc_at_best_val_acc,model8_num_epochs, model8_param_count = plot_results(model8)"
   ]
  },
  {
   "cell_type": "markdown",
   "id": "e7b794ff",
   "metadata": {},
   "source": [
    "### 12. model9 - Conv2D + RNN Model"
   ]
  },
  {
   "cell_type": "markdown",
   "id": "d274385d",
   "metadata": {},
   "source": [
    "#### 12.1 Structure"
   ]
  },
  {
   "cell_type": "markdown",
   "id": "06137878",
   "metadata": {},
   "source": [
    "* Using VGG16 pretrained model for Conv2D and therefore will lock the layers from training.\n",
    "* Then using GRU model for sequence learning"
   ]
  },
  {
   "cell_type": "code",
   "execution_count": null,
   "id": "630cce0a",
   "metadata": {
    "run_control": {
     "marked": true
    }
   },
   "outputs": [],
   "source": [
    "# Structuring the transferred CNN model for image feature extraction\n",
    "base_model = VGG16(include_top=False, weights='imagenet', input_shape=(84,84,3)) \n",
    "x = base_model.output\n",
    "x = Flatten()(x)\n",
    "#x.add(Dropout(0.5))\n",
    "features = Dense(64, activation='relu')(x)\n",
    "conv_model = Model(inputs=base_model.input, outputs=features)\n",
    "\n",
    "# Freezing the weights\n",
    "for layer in base_model.layers:\n",
    "    layer.trainable = False\n",
    "\n",
    "\n",
    "model9 = Sequential()\n",
    "model9.add(TimeDistributed(conv_model, input_shape=(18,84,84,3)))\n",
    "model9.add(GRU(32, return_sequences=True))\n",
    "model9.add(GRU(16))\n",
    "model9.add(Dropout(0.5))\n",
    "model9.add(Dense(8, activation='relu'))\n",
    "model9.add(Dense(5, activation='softmax'))"
   ]
  },
  {
   "cell_type": "markdown",
   "id": "185a3e2b",
   "metadata": {},
   "source": [
    "#### 12.2 Model Compilation - Optimizer and Loss function"
   ]
  },
  {
   "cell_type": "code",
   "execution_count": null,
   "id": "bb54d4bf",
   "metadata": {},
   "outputs": [],
   "source": [
    "adam = optimizers.Adam(learning_rate = 0.001)\n",
    "model9.compile(optimizer=adam, loss='categorical_crossentropy', metrics=['categorical_accuracy'])\n",
    "print (model9.summary())"
   ]
  },
  {
   "cell_type": "markdown",
   "id": "517af5f8",
   "metadata": {},
   "source": [
    "#### 12.3 Sourcing the data"
   ]
  },
  {
   "cell_type": "code",
   "execution_count": null,
   "id": "80fb5c41",
   "metadata": {},
   "outputs": [],
   "source": [
    "# Setting the batch size and num_epochs\n",
    "batch_size = 16\n",
    "num_epochs = 30\n",
    "print('# batch size = ', batch_size)\n",
    "print('# number of epochs = ', num_epochs)\n",
    "# Initiating the iterable generators for train and validation \n",
    "train_generator = generator(train_data_dir, train_doc, batch_size)\n",
    "val_generator = generator(val_data_dir, val_doc, batch_size)"
   ]
  },
  {
   "cell_type": "markdown",
   "id": "97369b2e",
   "metadata": {},
   "source": [
    "#### 12.4 Storing model9 check points"
   ]
  },
  {
   "cell_type": "code",
   "execution_count": null,
   "id": "c4ad3879",
   "metadata": {},
   "outputs": [],
   "source": [
    "curr_dt_time = datetime.now()"
   ]
  },
  {
   "cell_type": "code",
   "execution_count": null,
   "id": "033a75ca",
   "metadata": {
    "run_control": {
     "marked": true
    }
   },
   "outputs": [],
   "source": [
    "# Creating the model name based on runtime.\n",
    "model_name = 'model_init' + '_' + str(curr_dt_time).replace(' ','').replace(':','_') + '/'\n",
    "\n",
    "# if path does not exist, make new path\n",
    "if not os.path.exists(model_name):\n",
    "    os.mkdir(model_name)\n",
    "\n",
    "# .h5 File name\n",
    "filepath = model_name + 'model9-{epoch:05d}-{loss:.5f}-{categorical_accuracy:.5f}-{val_loss:.5f}-{val_categorical_accuracy:.5f}.h5'\n",
    "\n",
    "# checkpoint to record val loss\n",
    "checkpoint = ModelCheckpoint(filepath, monitor='val_loss', verbose=1,\\\n",
    "                             save_best_only=True, save_weights_only=False, mode='auto', save_freq='epoch')\n",
    "\n",
    "# reducing the learning rate if there is no reduction in gradient over epochs\n",
    "LR = ReduceLROnPlateau(monitor='val_loss', factor=0.5, patience=2,\\\n",
    "                       verbose=1, mode='min', min_delta=0.0001, cooldown=0, min_lr=0.00001)\n",
    "\n",
    "# Also creating a history object to record all parameters over epochs\n",
    "history = History()\n",
    "# storing checkpoint and LR as callbacks list\n",
    "callbacks_list = [checkpoint, LR, history]"
   ]
  },
  {
   "cell_type": "markdown",
   "id": "ca318d30",
   "metadata": {},
   "source": [
    "#### 12.5 Steps per epoch"
   ]
  },
  {
   "cell_type": "code",
   "execution_count": null,
   "id": "a111571e",
   "metadata": {},
   "outputs": [],
   "source": [
    "if (num_train_sequences%batch_size) == 0:\n",
    "    steps_per_epoch = int(num_train_sequences/batch_size)\n",
    "else:\n",
    "    steps_per_epoch = (num_train_sequences//batch_size) + 1\n",
    "\n",
    "if (num_val_sequences%batch_size) == 0:\n",
    "    validation_steps = int(num_val_sequences/batch_size)\n",
    "else:\n",
    "    validation_steps = (num_val_sequences//batch_size) + 1"
   ]
  },
  {
   "cell_type": "markdown",
   "id": "4e3bd997",
   "metadata": {},
   "source": [
    "#### 12.6 model9 Training"
   ]
  },
  {
   "cell_type": "code",
   "execution_count": null,
   "id": "f326551a",
   "metadata": {},
   "outputs": [],
   "source": [
    "# Timing the model runtime\n",
    "model9_start_time = time.time()"
   ]
  },
  {
   "cell_type": "code",
   "execution_count": null,
   "id": "5d83ca5d",
   "metadata": {},
   "outputs": [],
   "source": [
    "model9.fit_generator(train_generator, steps_per_epoch=steps_per_epoch, epochs=num_epochs, verbose=2, \n",
    "                    callbacks=callbacks_list, validation_data=val_generator, \n",
    "                    validation_steps=validation_steps, class_weight=None, workers=1, initial_epoch=0)"
   ]
  },
  {
   "cell_type": "code",
   "execution_count": null,
   "id": "610efb36",
   "metadata": {},
   "outputs": [],
   "source": [
    "model9_exec_time = round((time.time() - model9_start_time), 6)\n",
    "print(f\"model9 execution time is {model9_exec_time} seconds\")"
   ]
  },
  {
   "cell_type": "markdown",
   "id": "c0508324",
   "metadata": {},
   "source": [
    "#### 12.7 Plotting recorded results and getting the accuracies"
   ]
  },
  {
   "cell_type": "code",
   "execution_count": null,
   "id": "61804895",
   "metadata": {
    "scrolled": true
   },
   "outputs": [],
   "source": [
    "model9_best_val_acc, model9_train_acc_at_best_val_acc, model9_num_epochs, model9_param_count = plot_results(model9)"
   ]
  },
  {
   "cell_type": "markdown",
   "id": "17718e83",
   "metadata": {},
   "source": [
    "#### The above model did not give impressive results. \n",
    "\n",
    "Will design a generator, and structure a manual CNN and then an LSTM model."
   ]
  },
  {
   "cell_type": "markdown",
   "id": "f7e493ee",
   "metadata": {},
   "source": [
    "### 13. Generator"
   ]
  },
  {
   "cell_type": "code",
   "execution_count": null,
   "id": "85ab628f",
   "metadata": {},
   "outputs": [],
   "source": [
    "class ModelBuilder(metaclass = abc.ABCMeta):\n",
    "    \n",
    "    def initialize_path(self,project_data_dir):\n",
    "        self.train_doc = np.random.permutation(open(train_csv_dir).readlines())\n",
    "        self.val_doc = np.random.permutation(open(val_csv_dir).readlines())\n",
    "        self.train_path = train_data_dir\n",
    "        self.val_path =  val_data_dir\n",
    "        self.num_train_sequences = len(self.train_doc)\n",
    "        self.num_val_sequences = len(self.val_doc)\n",
    "     \n",
    "    \n",
    "    def initialize_image_properties(self,image_height=84,image_width=84):\n",
    "        self.image_height=image_height\n",
    "        self.image_width=image_width\n",
    "        self.channels=3\n",
    "        self.num_classes=5\n",
    "        self.total_frames=30\n",
    "     \n",
    "    \n",
    "    def initialize_hyperparams(self,frames_to_sample=30,batch_size=20,num_epochs=20):\n",
    "        self.frames_to_sample=frames_to_sample\n",
    "        self.batch_size=batch_size\n",
    "        self.num_epochs=num_epochs\n",
    "    \n",
    "    \n",
    "    def train_model(self, model, model_num):\n",
    "        \n",
    "        model_num = 'model' + str(model_num)\n",
    "        \n",
    "        train_generator = generator(self.train_path, self.train_doc, self.batch_size)\n",
    "        val_generator = generator(self.val_path, self.val_doc, batch_size)\n",
    "\n",
    "        model_name = 'model_init' + '_' + str(datetime.now()).replace(' ','').replace(':','_') + '/'\n",
    "    \n",
    "        if not os.path.exists(model_name):\n",
    "            os.mkdir(model_name)\n",
    "        \n",
    "        filepath = model_name + model_num +'model-{epoch:05d}-{loss:.5f}-{categorical_accuracy:.5f}-{val_loss:.5f}-{val_categorical_accuracy:.5f}.h5'\n",
    "\n",
    "        checkpoint = ModelCheckpoint(filepath, monitor='val_loss', verbose=1,\\\n",
    "                                     save_best_only=True, save_weights_only=False, mode='auto', save_freq='epoch')\n",
    "\n",
    "        # reducing the learning rate if there is no reduction in gradient over epochs\n",
    "        LR = ReduceLROnPlateau(monitor='val_loss', factor=0.7, patience=1,\\\n",
    "                               verbose=1, mode='min', min_delta=0.0001, cooldown=0, min_lr=0.00001)\n",
    "        \n",
    "        history = History()\n",
    "        \n",
    "        callbacks_list = [checkpoint, LR, history]\n",
    "\n",
    "        if (self.num_train_sequences%self.batch_size) == 0:\n",
    "            steps_per_epoch = int(self.num_train_sequences/self.batch_size)\n",
    "        else:\n",
    "            steps_per_epoch = (self.num_train_sequences//self.batch_size) + 1\n",
    "\n",
    "        if (self.num_val_sequences%self.batch_size) == 0:\n",
    "            validation_steps = int(self.num_val_sequences/self.batch_size)\n",
    "        else:\n",
    "            validation_steps = (self.num_val_sequences//self.batch_size) + 1\n",
    "        \n",
    "        model_start_time = time.time()\n",
    "        \n",
    "        model.fit_generator(train_generator, steps_per_epoch=steps_per_epoch, epochs=self.num_epochs, verbose=2, \n",
    "                                      callbacks=callbacks_list, validation_data=val_generator, \n",
    "                                      validation_steps=validation_steps, class_weight=None, workers=1, initial_epoch=0)\n",
    "        \n",
    "        model_exec_time = round((time.time() - model_start_time), 6)\n",
    "        print(f\"model execution time is {model_exec_time} seconds\")\n",
    "        \n",
    "        model_history = model.history.history\n",
    "    \n",
    "        # storing accuracy values\n",
    "        train_acc = model_history['categorical_accuracy']\n",
    "        val_acc = model_history['val_categorical_accuracy']\n",
    "\n",
    "        # storing loss values\n",
    "        train_loss = model_history['loss']\n",
    "        val_loss = model_history['val_loss']\n",
    "\n",
    "        epochs_range = range(len(train_acc))\n",
    "\n",
    "        # plotting \n",
    "        plt.figure(figsize=(8, 8))\n",
    "        plt.subplot(1, 2, 1)\n",
    "        plt.plot(epochs_range, train_acc, label='Training Accuracy')\n",
    "        plt.plot(epochs_range, val_acc, label='Validation Accuracy')\n",
    "        plt.title('Accuracy')\n",
    "\n",
    "        plt.subplot(1, 2, 2)\n",
    "        plt.plot(epochs_range, train_loss, label='Training Loss')\n",
    "        plt.plot(epochs_range, val_loss, label='Validation Loss')\n",
    "        plt.legend(['Training', 'Validation'], loc = 'upper right', bbox_to_anchor = (1.4, 1.02))\n",
    "        plt.title('Loss')\n",
    "\n",
    "        plt.show()\n",
    "\n",
    "        # returning train and val accuracy\n",
    "        model_best_val_accuracy = round(max(val_acc),3)\n",
    "        model_train_accuracy_at_best_val_accuracy = round(train_acc[val_acc.index(max(val_acc))],3)\n",
    "        print('------------------')\n",
    "        print(f'Highest validation accuracy                      = {round(max(val_acc),3)}')\n",
    "        print(f'Training accuracy at highest validation accuracy = {round(train_acc[val_acc.index(max(val_acc))],3)}')\n",
    "        print('------------------')\n",
    "\n",
    "        return model_best_val_accuracy, model_train_accuracy_at_best_val_accuracy, num_epochs, model.count_params(), model_exec_time\n",
    "        \n",
    "    @abc.abstractmethod\n",
    "    def define_model(self):\n",
    "        pass"
   ]
  },
  {
   "cell_type": "markdown",
   "id": "51ccb2a2",
   "metadata": {},
   "source": [
    "### 14. Model10 (CNN - LSTM Model)"
   ]
  },
  {
   "cell_type": "markdown",
   "id": "d41a803e",
   "metadata": {},
   "source": [
    "#### 14.1 Model Class"
   ]
  },
  {
   "cell_type": "markdown",
   "id": "88861cd8",
   "metadata": {},
   "source": [
    "* Using VGG16 pretrained model for Conv2D and therefore will lock the layers from training.\n",
    "* Then using GRU model for sequence learning"
   ]
  },
  {
   "cell_type": "code",
   "execution_count": null,
   "id": "0642b539",
   "metadata": {
    "run_control": {
     "marked": true
    }
   },
   "outputs": [],
   "source": [
    "class RNNCNN1(ModelBuilder):\n",
    "    \n",
    "    def define_model(self,lstm_cells=64,dense_neurons=64,dropout=0.25):\n",
    "\n",
    "        model = Sequential()\n",
    "\n",
    "        model.add(TimeDistributed(Conv2D(16, (3, 3) , padding='same', activation='relu'),\n",
    "                                  input_shape=(self.frames_to_sample,self.image_height,self.image_width,self.channels)))\n",
    "        model.add(TimeDistributed(BatchNormalization()))\n",
    "        model.add(TimeDistributed(MaxPooling2D((2, 2))))\n",
    "        \n",
    "        model.add(TimeDistributed(Conv2D(32, (3, 3) , padding='same', activation='relu')))\n",
    "        model.add(TimeDistributed(BatchNormalization()))\n",
    "        model.add(TimeDistributed(MaxPooling2D((2, 2))))\n",
    "        \n",
    "        model.add(TimeDistributed(Conv2D(64, (3, 3) , padding='same', activation='relu')))\n",
    "        model.add(TimeDistributed(BatchNormalization()))\n",
    "        model.add(TimeDistributed(MaxPooling2D((2, 2))))\n",
    "        \n",
    "        model.add(TimeDistributed(Conv2D(128, (3, 3) , padding='same', activation='relu')))\n",
    "        model.add(TimeDistributed(BatchNormalization()))\n",
    "        model.add(TimeDistributed(MaxPooling2D((2, 2))))\n",
    "        \n",
    "        model.add(TimeDistributed(Conv2D(256, (3, 3) , padding='same', activation='relu')))\n",
    "        model.add(TimeDistributed(BatchNormalization()))\n",
    "        model.add(TimeDistributed(MaxPooling2D((2, 2))))\n",
    "        \n",
    "       # model.add(TimeDistributed(Conv2D(512, (2, 2) , padding='valid', activation='relu')))\n",
    "       # model.add(TimeDistributed(BatchNormalization()))\n",
    "       # model.add(TimeDistributed(MaxPooling2D((2, 2))))\n",
    "\n",
    "        model.add(TimeDistributed(Flatten()))\n",
    "\n",
    "\n",
    "        model.add(LSTM(lstm_cells))\n",
    "        model.add(Dropout(dropout))\n",
    "        \n",
    "        model.add(Dense(dense_neurons,activation='relu'))\n",
    "        model.add(Dropout(dropout))\n",
    "        \n",
    "        model.add(Dense(self.num_classes, activation='softmax'))\n",
    "        adam = optimizers.Adam()\n",
    "        model.compile(optimizer=adam, loss='categorical_crossentropy', metrics=['categorical_accuracy'])\n",
    "        return model"
   ]
  },
  {
   "cell_type": "markdown",
   "id": "b5926554",
   "metadata": {},
   "source": [
    "#### 14.2 Model Structure"
   ]
  },
  {
   "cell_type": "code",
   "execution_count": null,
   "id": "d7e71357",
   "metadata": {},
   "outputs": [],
   "source": [
    "model10=RNNCNN1()\n",
    "model10.initialize_path(project_folder)\n",
    "model10.initialize_image_properties(image_height=84,image_width=84)\n",
    "model10.initialize_hyperparams(frames_to_sample=18,batch_size=20,num_epochs=20)\n",
    "model10_model=model10.define_model(lstm_cells=128,dense_neurons=128,dropout=0.25)\n",
    "model10_model.summary()"
   ]
  },
  {
   "cell_type": "markdown",
   "id": "bba96b9a",
   "metadata": {},
   "source": [
    "#### 14.3 Model Training, Plotting and retrieving accuracies"
   ]
  },
  {
   "cell_type": "code",
   "execution_count": null,
   "id": "79af263c",
   "metadata": {
    "scrolled": false
   },
   "outputs": [],
   "source": [
    "model10_best_val_acc, model10_train_acc_at_best_val_acc, model10_num_epochs, model10_param_count, model10_exec_time = model10.train_model(model10_model, model_num = 10)"
   ]
  },
  {
   "cell_type": "markdown",
   "id": "731a311f",
   "metadata": {},
   "source": [
    "There is not sufficient validation accuracy and this model is clearly overfitting."
   ]
  },
  {
   "cell_type": "markdown",
   "id": "a67b5bee",
   "metadata": {},
   "source": [
    "### 15. Model11 (CNN - LSTM Model with Transfer Learning)"
   ]
  },
  {
   "cell_type": "markdown",
   "id": "4c87cd83",
   "metadata": {},
   "source": [
    "#### 15.1 Model Class"
   ]
  },
  {
   "cell_type": "markdown",
   "id": "28700136",
   "metadata": {},
   "source": [
    "* Using Mobilenet pretrained model for Conv2D and therefore will lock the layers from training.\n",
    "* Then using LSTM cells for sequence learning"
   ]
  },
  {
   "cell_type": "code",
   "execution_count": null,
   "id": "ca120ab3",
   "metadata": {
    "run_control": {
     "marked": true
    }
   },
   "outputs": [],
   "source": [
    "mobilenet_transfer = mobilenet.MobileNet(weights='imagenet', include_top=False)\n",
    "\n",
    "class RNNCNN_TL(ModelBuilder):\n",
    "    \n",
    "    def define_model(self,lstm_cells=64,dense_neurons=64,dropout=0.25):\n",
    "        \n",
    "        model = Sequential()\n",
    "        model.add(TimeDistributed(mobilenet_transfer,input_shape=(self.frames_to_sample,self.image_height,self.image_width,self.channels)))\n",
    "        \n",
    "        \n",
    "        for layer in model.layers:\n",
    "            layer.trainable = False\n",
    "        \n",
    "        \n",
    "        model.add(TimeDistributed(BatchNormalization()))\n",
    "        model.add(TimeDistributed(MaxPooling2D((2, 2))))\n",
    "        model.add(TimeDistributed(Flatten()))\n",
    "\n",
    "        model.add(LSTM(lstm_cells))\n",
    "        model.add(Dropout(dropout))\n",
    "        \n",
    "        model.add(Dense(dense_neurons,activation='relu'))\n",
    "        model.add(Dropout(dropout))\n",
    "        \n",
    "        model.add(Dense(self.num_classes, activation='softmax'))\n",
    "        \n",
    "        \n",
    "        adam = optimizers.Adam()\n",
    "        model.compile(optimizer=adam, loss='categorical_crossentropy', metrics=['categorical_accuracy'])\n",
    "        return model"
   ]
  },
  {
   "cell_type": "markdown",
   "id": "d01fd8b3",
   "metadata": {},
   "source": [
    "#### 15.2 Model Structure"
   ]
  },
  {
   "cell_type": "code",
   "execution_count": null,
   "id": "f36497d7",
   "metadata": {},
   "outputs": [],
   "source": [
    "model11=RNNCNN_TL()\n",
    "model11.initialize_path(project_folder)\n",
    "model11.initialize_image_properties(image_height=84,image_width=84)\n",
    "model11.initialize_hyperparams(frames_to_sample=18,batch_size=20,num_epochs=20)\n",
    "model11_model=model11.define_model(lstm_cells=128,dense_neurons=128,dropout=0.25)\n",
    "model11_model.summary()"
   ]
  },
  {
   "cell_type": "markdown",
   "id": "6faa7489",
   "metadata": {},
   "source": [
    "#### 15.3 Model Training, Plotting and retrieving the accuracies"
   ]
  },
  {
   "cell_type": "code",
   "execution_count": null,
   "id": "3124f5e5",
   "metadata": {},
   "outputs": [],
   "source": [
    "model11_best_val_acc, model11_train_acc_at_best_val_acc, model11_num_epochs, model11_param_count, model11_exec_time = model11.train_model(model11_model, model_num = 11)"
   ]
  },
  {
   "cell_type": "markdown",
   "id": "a4e8ad13",
   "metadata": {},
   "source": [
    "Checking if the accuracy can be improved by unlocking the layers from transferred model for training again"
   ]
  },
  {
   "cell_type": "markdown",
   "id": "5d7e6099",
   "metadata": {},
   "source": [
    "### 16. model12 (CNN - GRU Model with Transfer Learning and retraining)"
   ]
  },
  {
   "cell_type": "markdown",
   "id": "95baa576",
   "metadata": {},
   "source": [
    "#### 16.1 Model Class"
   ]
  },
  {
   "cell_type": "markdown",
   "id": "917ccba1",
   "metadata": {},
   "source": [
    "* Using mobilenet pretrained model for Conv2D and training the layers again\n",
    "* Then using GRU model for sequence learning\n",
    "* Setting epochs to 15"
   ]
  },
  {
   "cell_type": "code",
   "execution_count": null,
   "id": "d877eb1c",
   "metadata": {
    "run_control": {
     "marked": true
    }
   },
   "outputs": [],
   "source": [
    "mobilenet_transfer = mobilenet.MobileNet(weights='imagenet', include_top=False)\n",
    "\n",
    "class RNNCNN_TL2(ModelBuilder):\n",
    "    \n",
    "    def define_model(self,gru_cells=64,dense_neurons=64,dropout=0.25):\n",
    "        \n",
    "        model = Sequential()\n",
    "        model.add(TimeDistributed(mobilenet_transfer,input_shape=(self.frames_to_sample,self.image_height,self.image_width,self.channels)))\n",
    " \n",
    "        \n",
    "        model.add(TimeDistributed(BatchNormalization()))\n",
    "        model.add(TimeDistributed(MaxPooling2D((2, 2))))\n",
    "        model.add(TimeDistributed(Flatten()))\n",
    "\n",
    "        model.add(GRU(gru_cells))\n",
    "        model.add(Dropout(dropout))\n",
    "        \n",
    "        model.add(Dense(dense_neurons,activation='relu'))\n",
    "        model.add(Dropout(dropout))\n",
    "        \n",
    "        model.add(Dense(self.num_classes, activation='softmax'))\n",
    "        \n",
    "        \n",
    "        optimiser = optimizers.Adam()\n",
    "        model.compile(optimizer=optimiser, loss='categorical_crossentropy', metrics=['categorical_accuracy'])\n",
    "        return model"
   ]
  },
  {
   "cell_type": "markdown",
   "id": "60e85cf5",
   "metadata": {},
   "source": [
    "#### 16.2 Model Structure"
   ]
  },
  {
   "cell_type": "code",
   "execution_count": null,
   "id": "a3cef77b",
   "metadata": {},
   "outputs": [],
   "source": [
    "model12=RNNCNN_TL2()\n",
    "model12.initialize_path(project_folder)\n",
    "model12.initialize_image_properties(image_height=84,image_width=84)\n",
    "model12.initialize_hyperparams(frames_to_sample=18,batch_size=20,num_epochs=15)\n",
    "model12_model=model12.define_model(gru_cells=128,dense_neurons=128,dropout=0.25)\n",
    "model12_model.summary()"
   ]
  },
  {
   "cell_type": "markdown",
   "id": "c4c6a5ee",
   "metadata": {},
   "source": [
    "#### 16.3 Model Training, Plotting and retrieving accuracies"
   ]
  },
  {
   "cell_type": "code",
   "execution_count": null,
   "id": "ef7f7e3d",
   "metadata": {},
   "outputs": [],
   "source": [
    "model12_best_val_acc, model12_train_acc_at_best_val_acc, model12_num_epochs, model12_param_count, model12_exec_time = model12.train_model(model12_model, model_num = 12)"
   ]
  },
  {
   "cell_type": "markdown",
   "id": "9f13360d",
   "metadata": {},
   "source": [
    "### 17. Summary"
   ]
  },
  {
   "cell_type": "markdown",
   "id": "82a26aa7",
   "metadata": {},
   "source": [
    "#### 17.1 Dataframe of models"
   ]
  },
  {
   "cell_type": "code",
   "execution_count": null,
   "id": "ec6f4695",
   "metadata": {},
   "outputs": [],
   "source": [
    "model_list = ['model'+str(i) for i in range(1, 13)]\n",
    "\n",
    "params_count_list = [model1_param_count, model2_param_count, model3_param_count, model4_param_count,\n",
    "                     model5_param_count, model6_param_count, model7_param_count, model8_param_count,\n",
    "                     model9_param_count, model10_param_count, model11_param_count, model12_param_count]\n",
    "\n",
    "num_of_epochs = [model1_num_epochs, model2_num_epochs, model3_num_epochs, model4_num_epochs,\n",
    "                model5_num_epochs, model6_num_epochs, model7_num_epochs, model8_num_epochs,\n",
    "                model9_num_epochs, model10_num_epochs, model11_num_epochs, model12_num_epochs]\n",
    "\n",
    "model_exec_time = [model1_exec_time, model2_exec_time, model3_exec_time, model4_exec_time,\n",
    "                  model5_exec_time, model6_exec_time, model7_exec_time, model8_exec_time, \n",
    "                  model9_exec_time, model10_exec_time, model11_exec_time, model12_exec_time]\n",
    "\n",
    "model_highest_val_acc = [model1_best_val_acc, model2_best_val_acc, model3_best_val_acc, model4_best_val_acc,\n",
    "                        model5_best_val_acc, model6_best_val_acc, model7_best_val_acc, model8_best_val_acc,\n",
    "                        model9_best_val_acc, model10_best_val_acc, model11_best_val_acc, model12_best_val_acc]\n",
    "\n",
    "train_acc_at_highest_val_acc = [model1_train_acc_at_best_val_acc, model2_train_acc_at_best_val_acc,\n",
    "                                model3_train_acc_at_best_val_acc, model4_train_acc_at_best_val_acc,\n",
    "                                model5_train_acc_at_best_val_acc, model6_train_acc_at_best_val_acc,\n",
    "                                model7_train_acc_at_best_val_acc, model8_train_acc_at_best_val_acc,\n",
    "                                model9_train_acc_at_best_val_acc, model10_train_acc_at_best_val_acc,\n",
    "                                model11_train_acc_at_best_val_acc, model12_train_acc_at_best_val_acc]\n",
    "\n",
    "import pandas as pd\n",
    "\n",
    "model_specs = pd.DataFrame({'Model' : model_list,\n",
    "                            'paramseter_count' : params_count_list,\n",
    "                            'Best_validation_accuracy' : model_highest_val_acc,\n",
    "                            'Train_accuracy' : train_acc_at_highest_val_acc,\n",
    "                            'Epoch_count' : num_of_epochs,\n",
    "                            'Execution_time' : model_exec_time\n",
    "                            })\n",
    "\n",
    "model_specs['Exec_time_per_epoch'] = (model_specs['Execution_time']/model_specs['Epoch_count']).round(6)\n",
    "\n",
    "model_specs.sort_values('Execution_time')"
   ]
  },
  {
   "cell_type": "markdown",
   "id": "808a06a8",
   "metadata": {},
   "source": [
    "***\n",
    "#### The following are the observations and conclusion from the case study\n",
    "\n",
    "* Model12 is the best model with overall high accuracy - 99 for train and 94 for validation.\n",
    "* Model12 has the lowest execution time with excellent validation accuracy.\n",
    "* Model12 therefore shall be the final model and the highest validation accuracy weights saved in its corresponding .h5 file shall be uploaded for deployment.\n",
    "***"
   ]
  },
  {
   "cell_type": "code",
   "execution_count": null,
   "id": "efd90ac9",
   "metadata": {},
   "outputs": [],
   "source": []
  }
 ],
 "metadata": {
  "kernelspec": {
   "display_name": "Python 3 (ipykernel)",
   "language": "python",
   "name": "python3"
  },
  "language_info": {
   "codemirror_mode": {
    "name": "ipython",
    "version": 3
   },
   "file_extension": ".py",
   "mimetype": "text/x-python",
   "name": "python",
   "nbconvert_exporter": "python",
   "pygments_lexer": "ipython3",
   "version": "3.9.7"
  }
 },
 "nbformat": 4,
 "nbformat_minor": 5
}
